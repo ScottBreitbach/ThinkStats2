{
 "cells": [
  {
   "cell_type": "markdown",
   "metadata": {},
   "source": [
    "## Scott Breitbach\n",
    "### DSC530: Final Project\n",
    "### 14-November-2020"
   ]
  },
  {
   "cell_type": "code",
   "execution_count": 25,
   "metadata": {},
   "outputs": [],
   "source": [
    "from __future__ import print_function, division\n",
    "\n",
    "%matplotlib inline\n",
    "\n",
    "import numpy as np\n",
    "import pandas as pd\n",
    "import thinkstats2\n",
    "import matplotlib\n",
    "import thinkplot"
   ]
  },
  {
   "cell_type": "code",
   "execution_count": 2,
   "metadata": {},
   "outputs": [],
   "source": [
    "# Read data file to dataframe\n",
    "gss = r'GSS.xlsx'\n",
    "df = pd.read_excel(gss)\n",
    "\n",
    "# Fix weird spacing of year column\n",
    "df = df.rename(columns={'Gss year for this respondent                       ':'Gss year for this respondent'})"
   ]
  },
  {
   "cell_type": "code",
   "execution_count": 3,
   "metadata": {},
   "outputs": [
    {
     "data": {
      "text/plain": [
       "['Gss year for this respondent',\n",
       " 'Respondents income',\n",
       " 'Total family income',\n",
       " 'Number of persons in household',\n",
       " 'How many grandparents born outside u.s.',\n",
       " 'Age of respondent',\n",
       " 'Travel time to work',\n",
       " 'Number of hours worked last week',\n",
       " 'Respondent id number',\n",
       " 'Rs occupational prestige score (2010)']"
      ]
     },
     "execution_count": 3,
     "metadata": {},
     "output_type": "execute_result"
    }
   ],
   "source": [
    "origColumns = df.columns.tolist()\n",
    "origColumns"
   ]
  },
  {
   "cell_type": "code",
   "execution_count": 4,
   "metadata": {},
   "outputs": [],
   "source": [
    "# Rename column headers\n",
    "# df.rename(columns={'$a':'a', '$b':'b', '$c':'c', '$d':'d', '$e':'e'})\n",
    "df = df.rename(columns={'Gss year for this respondent':'year',\n",
    " 'Respondents income':'rincome',\n",
    " 'Total family income':'income',\n",
    " 'Number of persons in household':'hompop',\n",
    " 'How many grandparents born outside u.s.':'granborn',\n",
    " 'Age of respondent':'age',\n",
    " 'Travel time to work':'commute',\n",
    " 'Number of hours worked last week':'hrs1',\n",
    " 'Respondent id number':'id',\n",
    " 'Rs occupational prestige score (2010)':'prestg10'})"
   ]
  },
  {
   "cell_type": "code",
   "execution_count": 5,
   "metadata": {},
   "outputs": [
    {
     "data": {
      "text/plain": [
       "['year',\n",
       " 'rincome',\n",
       " 'income',\n",
       " 'hompop',\n",
       " 'granborn',\n",
       " 'age',\n",
       " 'commute',\n",
       " 'hrs1',\n",
       " 'id',\n",
       " 'prestg10']"
      ]
     },
     "execution_count": 5,
     "metadata": {},
     "output_type": "execute_result"
    }
   ],
   "source": [
    "newColumns = df.columns.tolist()\n",
    "newColumns"
   ]
  },
  {
   "cell_type": "code",
   "execution_count": 6,
   "metadata": {},
   "outputs": [],
   "source": [
    "def CleanColumn(df, columnName):\n",
    "    na_vals = [\"Don't know\", \"No answer\", \"Not applicable\", \"Refused\"]\n",
    "    df[columnName].replace(na_vals, np.nan, inplace = True)\n",
    "    return df\n",
    "\n",
    "def CleanData(df):\n",
    "    for item in newColumns:\n",
    "        df = CleanColumn(df, item)\n",
    "    \n",
    "    # Create unique user IDs for each row:\n",
    "    df['uniqueID'] = df['year'].map(str) + '-' + df['id'].map(str)\n",
    "    \n",
    "    # Replace age of '89 or older' with 89\n",
    "    df['age'] = df['age'].replace(['89 or older'], 89)\n",
    "\n",
    "    # Replace grandparents born 'All in u.s' with 0 (born outside U.S.)\n",
    "    df['granborn'] = df['granborn'].replace(['All in u.s'], 0)\n",
    "\n",
    "    # Replace travel time of '97+ minutes' with 97\n",
    "    df['commute'] = df['commute'].replace(['97+ minutes'], 97)\n",
    "    \n",
    "    return df"
   ]
  },
  {
   "cell_type": "code",
   "execution_count": 7,
   "metadata": {},
   "outputs": [],
   "source": [
    "df = CleanData(df)"
   ]
  },
  {
   "cell_type": "code",
   "execution_count": 8,
   "metadata": {
    "scrolled": true
   },
   "outputs": [
    {
     "data": {
      "text/plain": [
       "year          int64\n",
       "rincome      object\n",
       "income       object\n",
       "hompop      float64\n",
       "granborn    float64\n",
       "age         float64\n",
       "commute     float64\n",
       "hrs1        float64\n",
       "id            int64\n",
       "prestg10      int64\n",
       "uniqueID     object\n",
       "dtype: object"
      ]
     },
     "metadata": {},
     "output_type": "display_data"
    }
   ],
   "source": [
    "display(df.dtypes)"
   ]
  },
  {
   "cell_type": "code",
   "execution_count": 9,
   "metadata": {
    "scrolled": false
   },
   "outputs": [
    {
     "data": {
      "text/html": [
       "<div>\n",
       "<style scoped>\n",
       "    .dataframe tbody tr th:only-of-type {\n",
       "        vertical-align: middle;\n",
       "    }\n",
       "\n",
       "    .dataframe tbody tr th {\n",
       "        vertical-align: top;\n",
       "    }\n",
       "\n",
       "    .dataframe thead th {\n",
       "        text-align: right;\n",
       "    }\n",
       "</style>\n",
       "<table border=\"1\" class=\"dataframe\">\n",
       "  <thead>\n",
       "    <tr style=\"text-align: right;\">\n",
       "      <th></th>\n",
       "      <th>year</th>\n",
       "      <th>rincome</th>\n",
       "      <th>income</th>\n",
       "      <th>hompop</th>\n",
       "      <th>granborn</th>\n",
       "      <th>age</th>\n",
       "      <th>commute</th>\n",
       "      <th>hrs1</th>\n",
       "      <th>id</th>\n",
       "      <th>prestg10</th>\n",
       "      <th>uniqueID</th>\n",
       "    </tr>\n",
       "  </thead>\n",
       "  <tbody>\n",
       "    <tr>\n",
       "      <th>0</th>\n",
       "      <td>1977</td>\n",
       "      <td>$7000 to 7999</td>\n",
       "      <td>$7000 to 7999</td>\n",
       "      <td>1.0</td>\n",
       "      <td>4.0</td>\n",
       "      <td>63.0</td>\n",
       "      <td>NaN</td>\n",
       "      <td>40.0</td>\n",
       "      <td>1</td>\n",
       "      <td>39</td>\n",
       "      <td>1977-1</td>\n",
       "    </tr>\n",
       "    <tr>\n",
       "      <th>1</th>\n",
       "      <td>1977</td>\n",
       "      <td>$8000 to 9999</td>\n",
       "      <td>$10000 - 14999</td>\n",
       "      <td>2.0</td>\n",
       "      <td>4.0</td>\n",
       "      <td>31.0</td>\n",
       "      <td>NaN</td>\n",
       "      <td>15.0</td>\n",
       "      <td>2</td>\n",
       "      <td>32</td>\n",
       "      <td>1977-2</td>\n",
       "    </tr>\n",
       "    <tr>\n",
       "      <th>2</th>\n",
       "      <td>1977</td>\n",
       "      <td>NaN</td>\n",
       "      <td>NaN</td>\n",
       "      <td>2.0</td>\n",
       "      <td>4.0</td>\n",
       "      <td>66.0</td>\n",
       "      <td>NaN</td>\n",
       "      <td>NaN</td>\n",
       "      <td>3</td>\n",
       "      <td>25</td>\n",
       "      <td>1977-3</td>\n",
       "    </tr>\n",
       "    <tr>\n",
       "      <th>3</th>\n",
       "      <td>1977</td>\n",
       "      <td>NaN</td>\n",
       "      <td>$20000 - 24999</td>\n",
       "      <td>2.0</td>\n",
       "      <td>2.0</td>\n",
       "      <td>26.0</td>\n",
       "      <td>NaN</td>\n",
       "      <td>NaN</td>\n",
       "      <td>4</td>\n",
       "      <td>39</td>\n",
       "      <td>1977-4</td>\n",
       "    </tr>\n",
       "    <tr>\n",
       "      <th>4</th>\n",
       "      <td>1977</td>\n",
       "      <td>$7000 to 7999</td>\n",
       "      <td>NaN</td>\n",
       "      <td>9.0</td>\n",
       "      <td>1.0</td>\n",
       "      <td>20.0</td>\n",
       "      <td>NaN</td>\n",
       "      <td>40.0</td>\n",
       "      <td>5</td>\n",
       "      <td>40</td>\n",
       "      <td>1977-5</td>\n",
       "    </tr>\n",
       "  </tbody>\n",
       "</table>\n",
       "</div>"
      ],
      "text/plain": [
       "   year        rincome          income  hompop  granborn   age  commute  hrs1  \\\n",
       "0  1977  $7000 to 7999   $7000 to 7999     1.0       4.0  63.0      NaN  40.0   \n",
       "1  1977  $8000 to 9999  $10000 - 14999     2.0       4.0  31.0      NaN  15.0   \n",
       "2  1977            NaN             NaN     2.0       4.0  66.0      NaN   NaN   \n",
       "3  1977            NaN  $20000 - 24999     2.0       2.0  26.0      NaN   NaN   \n",
       "4  1977  $7000 to 7999             NaN     9.0       1.0  20.0      NaN  40.0   \n",
       "\n",
       "   id  prestg10 uniqueID  \n",
       "0   1        39   1977-1  \n",
       "1   2        32   1977-2  \n",
       "2   3        25   1977-3  \n",
       "3   4        39   1977-4  \n",
       "4   5        40   1977-5  "
      ]
     },
     "execution_count": 9,
     "metadata": {},
     "output_type": "execute_result"
    }
   ],
   "source": [
    "df.head()"
   ]
  },
  {
   "cell_type": "code",
   "execution_count": 10,
   "metadata": {},
   "outputs": [],
   "source": [
    "def FixIncVals(column):\n",
    "    # Replace income ranges with average values in new column\n",
    "    column = column.replace(['Lt $1000'], 500)\n",
    "    column = column.replace(['$1000 to 2999'], 2000)\n",
    "    column = column.replace(['$3000 to 3999'], 3500)\n",
    "    column = column.replace(['$4000 to 4999'], 4500)\n",
    "    column = column.replace(['$5000 to 5999'], 5500)\n",
    "    column = column.replace(['$6000 to 6999'], 6500)\n",
    "    column = column.replace(['$7000 to 7999'], 7500)\n",
    "    column = column.replace(['$8000 to 9999'], 9000)\n",
    "    column = column.replace(['$10000 - 14999'], 12500)\n",
    "    column = column.replace(['$15000 - 19999'], 17500)\n",
    "    column = column.replace(['$20000 - 24999'], 22500)\n",
    "    column = column.replace(['$25000 or more'], 25000)\n",
    "    return column"
   ]
  },
  {
   "cell_type": "code",
   "execution_count": 11,
   "metadata": {},
   "outputs": [],
   "source": [
    "# Create new columns with usabale values:\n",
    "df['rincome2'] = FixIncVals(df['rincome'])\n",
    "df['income2'] = FixIncVals(df['income'])"
   ]
  },
  {
   "cell_type": "code",
   "execution_count": 12,
   "metadata": {
    "scrolled": true
   },
   "outputs": [
    {
     "data": {
      "text/html": [
       "<div>\n",
       "<style scoped>\n",
       "    .dataframe tbody tr th:only-of-type {\n",
       "        vertical-align: middle;\n",
       "    }\n",
       "\n",
       "    .dataframe tbody tr th {\n",
       "        vertical-align: top;\n",
       "    }\n",
       "\n",
       "    .dataframe thead th {\n",
       "        text-align: right;\n",
       "    }\n",
       "</style>\n",
       "<table border=\"1\" class=\"dataframe\">\n",
       "  <thead>\n",
       "    <tr style=\"text-align: right;\">\n",
       "      <th></th>\n",
       "      <th>year</th>\n",
       "      <th>rincome</th>\n",
       "      <th>income</th>\n",
       "      <th>hompop</th>\n",
       "      <th>granborn</th>\n",
       "      <th>age</th>\n",
       "      <th>commute</th>\n",
       "      <th>hrs1</th>\n",
       "      <th>id</th>\n",
       "      <th>prestg10</th>\n",
       "      <th>uniqueID</th>\n",
       "      <th>rincome2</th>\n",
       "      <th>income2</th>\n",
       "    </tr>\n",
       "  </thead>\n",
       "  <tbody>\n",
       "    <tr>\n",
       "      <th>0</th>\n",
       "      <td>1977</td>\n",
       "      <td>$7000 to 7999</td>\n",
       "      <td>$7000 to 7999</td>\n",
       "      <td>1.0</td>\n",
       "      <td>4.0</td>\n",
       "      <td>63.0</td>\n",
       "      <td>NaN</td>\n",
       "      <td>40.0</td>\n",
       "      <td>1</td>\n",
       "      <td>39</td>\n",
       "      <td>1977-1</td>\n",
       "      <td>7500.0</td>\n",
       "      <td>7500.0</td>\n",
       "    </tr>\n",
       "    <tr>\n",
       "      <th>1</th>\n",
       "      <td>1977</td>\n",
       "      <td>$8000 to 9999</td>\n",
       "      <td>$10000 - 14999</td>\n",
       "      <td>2.0</td>\n",
       "      <td>4.0</td>\n",
       "      <td>31.0</td>\n",
       "      <td>NaN</td>\n",
       "      <td>15.0</td>\n",
       "      <td>2</td>\n",
       "      <td>32</td>\n",
       "      <td>1977-2</td>\n",
       "      <td>9000.0</td>\n",
       "      <td>12500.0</td>\n",
       "    </tr>\n",
       "    <tr>\n",
       "      <th>2</th>\n",
       "      <td>1977</td>\n",
       "      <td>NaN</td>\n",
       "      <td>NaN</td>\n",
       "      <td>2.0</td>\n",
       "      <td>4.0</td>\n",
       "      <td>66.0</td>\n",
       "      <td>NaN</td>\n",
       "      <td>NaN</td>\n",
       "      <td>3</td>\n",
       "      <td>25</td>\n",
       "      <td>1977-3</td>\n",
       "      <td>NaN</td>\n",
       "      <td>NaN</td>\n",
       "    </tr>\n",
       "    <tr>\n",
       "      <th>3</th>\n",
       "      <td>1977</td>\n",
       "      <td>NaN</td>\n",
       "      <td>$20000 - 24999</td>\n",
       "      <td>2.0</td>\n",
       "      <td>2.0</td>\n",
       "      <td>26.0</td>\n",
       "      <td>NaN</td>\n",
       "      <td>NaN</td>\n",
       "      <td>4</td>\n",
       "      <td>39</td>\n",
       "      <td>1977-4</td>\n",
       "      <td>NaN</td>\n",
       "      <td>22500.0</td>\n",
       "    </tr>\n",
       "    <tr>\n",
       "      <th>4</th>\n",
       "      <td>1977</td>\n",
       "      <td>$7000 to 7999</td>\n",
       "      <td>NaN</td>\n",
       "      <td>9.0</td>\n",
       "      <td>1.0</td>\n",
       "      <td>20.0</td>\n",
       "      <td>NaN</td>\n",
       "      <td>40.0</td>\n",
       "      <td>5</td>\n",
       "      <td>40</td>\n",
       "      <td>1977-5</td>\n",
       "      <td>7500.0</td>\n",
       "      <td>NaN</td>\n",
       "    </tr>\n",
       "  </tbody>\n",
       "</table>\n",
       "</div>"
      ],
      "text/plain": [
       "   year        rincome          income  hompop  granborn   age  commute  hrs1  \\\n",
       "0  1977  $7000 to 7999   $7000 to 7999     1.0       4.0  63.0      NaN  40.0   \n",
       "1  1977  $8000 to 9999  $10000 - 14999     2.0       4.0  31.0      NaN  15.0   \n",
       "2  1977            NaN             NaN     2.0       4.0  66.0      NaN   NaN   \n",
       "3  1977            NaN  $20000 - 24999     2.0       2.0  26.0      NaN   NaN   \n",
       "4  1977  $7000 to 7999             NaN     9.0       1.0  20.0      NaN  40.0   \n",
       "\n",
       "   id  prestg10 uniqueID  rincome2  income2  \n",
       "0   1        39   1977-1    7500.0   7500.0  \n",
       "1   2        32   1977-2    9000.0  12500.0  \n",
       "2   3        25   1977-3       NaN      NaN  \n",
       "3   4        39   1977-4       NaN  22500.0  \n",
       "4   5        40   1977-5    7500.0      NaN  "
      ]
     },
     "execution_count": 12,
     "metadata": {},
     "output_type": "execute_result"
    }
   ],
   "source": [
    "df.head()"
   ]
  },
  {
   "cell_type": "code",
   "execution_count": 13,
   "metadata": {},
   "outputs": [
    {
     "data": {
      "text/plain": [
       "array([ 7500.,  9000.,    nan, 22500., 12500., 17500.,  4500.,   500.,\n",
       "        5500., 25000.,  2000.,  3500.,  6500.])"
      ]
     },
     "execution_count": 13,
     "metadata": {},
     "output_type": "execute_result"
    }
   ],
   "source": [
    "# df['rincome2'].astype(float)\n",
    "\n",
    "## Display unique values in column\n",
    "df.rincome2.unique()\n",
    "# df.income2.unique()\n"
   ]
  },
  {
   "cell_type": "code",
   "execution_count": 14,
   "metadata": {},
   "outputs": [],
   "source": [
    "# # Clean rows with non-useful strings, like 'Not applicable':\n",
    "# def CleanColumn(df, columnName):\n",
    "#     na_vals = [\"Don't know\", \"No answer\", \"Not applicable\", \"Refused\"]\n",
    "#     df[columnName].replace(na_vals, np.nan, inplace = True)\n",
    "#     return df\n",
    "\n",
    "# ## REMOVE THIS\n",
    "# # columnList = ['Age of respondent', 'Respondents income', 'Total family income', 'Number of persons in household', \n",
    "# #              'How many grandparents born outside u.s.', 'Number of hours worked last week']\n",
    "\n",
    "# for item in newColumns:\n",
    "#     df = CleanColumn(df, item)\n",
    "    \n",
    "# # df = CleanData(df, columnList)"
   ]
  },
  {
   "cell_type": "code",
   "execution_count": 15,
   "metadata": {},
   "outputs": [],
   "source": [
    "# # Convert floats to integers\n",
    "# floatToInt = ['How many grandparents born outside u.s.', 'Age of respondent', 'Rs occupational prestige score (2010)']\n",
    "\n",
    "# def MakeIntegers(df, columnName):\n",
    "# #     df[columnName] = df[columnName].astype(int)\n",
    "#     df[columnName] = df[columnName].apply(np.int64)  # Need to remove NaNs\n",
    "    \n",
    "# for item in floatToInt:\n",
    "#     MakeIntegers(df, item)\n",
    "\n",
    "# df['How many grandparents born outside u.s.'].astype(int)\n",
    "\n",
    "### Columns with NaN cannot be integers ###"
   ]
  },
  {
   "cell_type": "code",
   "execution_count": 16,
   "metadata": {},
   "outputs": [],
   "source": [
    "# # Clean rows with non-useful strings, like 'Not applicable':\n",
    "# def CleanColumn(df, columnName):\n",
    "#     df = df[df[columnName] != \"Don't know\"]\n",
    "#     df = df[df[columnName] != \"No answer\"]\n",
    "#     df = df[df[columnName] != \"Not applicable\"]\n",
    "#     df = df[df[columnName] != \"Refused\"]\n",
    "#     return df\n",
    "\n",
    "# columnList = ['Age of respondent', 'Respondents income', 'Total family income', 'Number of persons in household', \n",
    "#              'How many grandparents born outside u.s.', 'Number of hours worked last week']\n",
    "\n",
    "# for item in columnList:\n",
    "#     df = CleanColumn(df, item)"
   ]
  },
  {
   "cell_type": "code",
   "execution_count": 17,
   "metadata": {},
   "outputs": [],
   "source": [
    "# ## Miscellaneous fixes to make data useable:\n",
    "\n",
    "# # Create unique user IDs for each row:\n",
    "# df['uniqueID'] = df['year'].map(str) + '-' + df['id'].map(str)\n",
    "\n",
    "# # Replace age of '89 or older' with 89\n",
    "# df['age'] = df['age'].replace(['89 or older'], 89)\n",
    "\n",
    "# # Replace grandparents born 'All in u.s' with 0 (born outside U.S.)\n",
    "# df['granborn'] = df['granborn'].replace(['All in u.s'], 0)\n",
    "\n",
    "# # Replace travel time of '97+ minutes' with 97\n",
    "# df['commute'] = df['commute'].replace(['97+ minutes'], 97)"
   ]
  },
  {
   "cell_type": "markdown",
   "metadata": {},
   "source": [
    "##### Need to remove NaNs? :(\n",
    "Apparently you have to use floats if the column contains NaNs, because Pandas"
   ]
  },
  {
   "cell_type": "code",
   "execution_count": 18,
   "metadata": {},
   "outputs": [],
   "source": [
    "# # Convert floats to integers\n",
    "# floatToInt = ['How many grandparents born outside u.s.', 'Age of respondent', 'Rs occupational prestige score (2010)']\n",
    "\n",
    "# def MakeIntegers(df, columnName):\n",
    "# #     df[columnName] = df[columnName].astype(int)\n",
    "#     df[columnName] = df[columnName].apply(np.int64)  # Need to remove NaNs\n",
    "    \n",
    "# for item in floatToInt:\n",
    "#     MakeIntegers(df, item)"
   ]
  },
  {
   "cell_type": "code",
   "execution_count": null,
   "metadata": {},
   "outputs": [],
   "source": []
  },
  {
   "cell_type": "markdown",
   "metadata": {},
   "source": [
    "##### DONE! \n",
    "NOTE: Need to replace income ranges with values; new variable / column?"
   ]
  },
  {
   "cell_type": "code",
   "execution_count": null,
   "metadata": {},
   "outputs": [],
   "source": []
  },
  {
   "cell_type": "code",
   "execution_count": 19,
   "metadata": {
    "scrolled": true
   },
   "outputs": [
    {
     "data": {
      "text/html": [
       "<div>\n",
       "<style scoped>\n",
       "    .dataframe tbody tr th:only-of-type {\n",
       "        vertical-align: middle;\n",
       "    }\n",
       "\n",
       "    .dataframe tbody tr th {\n",
       "        vertical-align: top;\n",
       "    }\n",
       "\n",
       "    .dataframe thead th {\n",
       "        text-align: right;\n",
       "    }\n",
       "</style>\n",
       "<table border=\"1\" class=\"dataframe\">\n",
       "  <thead>\n",
       "    <tr style=\"text-align: right;\">\n",
       "      <th></th>\n",
       "      <th>year</th>\n",
       "      <th>rincome</th>\n",
       "      <th>income</th>\n",
       "      <th>hompop</th>\n",
       "      <th>granborn</th>\n",
       "      <th>age</th>\n",
       "      <th>commute</th>\n",
       "      <th>hrs1</th>\n",
       "      <th>id</th>\n",
       "      <th>prestg10</th>\n",
       "      <th>uniqueID</th>\n",
       "      <th>rincome2</th>\n",
       "      <th>income2</th>\n",
       "    </tr>\n",
       "  </thead>\n",
       "  <tbody>\n",
       "    <tr>\n",
       "      <th>0</th>\n",
       "      <td>1977</td>\n",
       "      <td>$7000 to 7999</td>\n",
       "      <td>$7000 to 7999</td>\n",
       "      <td>1.0</td>\n",
       "      <td>4.0</td>\n",
       "      <td>63.0</td>\n",
       "      <td>NaN</td>\n",
       "      <td>40.0</td>\n",
       "      <td>1</td>\n",
       "      <td>39</td>\n",
       "      <td>1977-1</td>\n",
       "      <td>7500.0</td>\n",
       "      <td>7500.0</td>\n",
       "    </tr>\n",
       "    <tr>\n",
       "      <th>1</th>\n",
       "      <td>1977</td>\n",
       "      <td>$8000 to 9999</td>\n",
       "      <td>$10000 - 14999</td>\n",
       "      <td>2.0</td>\n",
       "      <td>4.0</td>\n",
       "      <td>31.0</td>\n",
       "      <td>NaN</td>\n",
       "      <td>15.0</td>\n",
       "      <td>2</td>\n",
       "      <td>32</td>\n",
       "      <td>1977-2</td>\n",
       "      <td>9000.0</td>\n",
       "      <td>12500.0</td>\n",
       "    </tr>\n",
       "    <tr>\n",
       "      <th>2</th>\n",
       "      <td>1977</td>\n",
       "      <td>NaN</td>\n",
       "      <td>NaN</td>\n",
       "      <td>2.0</td>\n",
       "      <td>4.0</td>\n",
       "      <td>66.0</td>\n",
       "      <td>NaN</td>\n",
       "      <td>NaN</td>\n",
       "      <td>3</td>\n",
       "      <td>25</td>\n",
       "      <td>1977-3</td>\n",
       "      <td>NaN</td>\n",
       "      <td>NaN</td>\n",
       "    </tr>\n",
       "    <tr>\n",
       "      <th>3</th>\n",
       "      <td>1977</td>\n",
       "      <td>NaN</td>\n",
       "      <td>$20000 - 24999</td>\n",
       "      <td>2.0</td>\n",
       "      <td>2.0</td>\n",
       "      <td>26.0</td>\n",
       "      <td>NaN</td>\n",
       "      <td>NaN</td>\n",
       "      <td>4</td>\n",
       "      <td>39</td>\n",
       "      <td>1977-4</td>\n",
       "      <td>NaN</td>\n",
       "      <td>22500.0</td>\n",
       "    </tr>\n",
       "    <tr>\n",
       "      <th>4</th>\n",
       "      <td>1977</td>\n",
       "      <td>$7000 to 7999</td>\n",
       "      <td>NaN</td>\n",
       "      <td>9.0</td>\n",
       "      <td>1.0</td>\n",
       "      <td>20.0</td>\n",
       "      <td>NaN</td>\n",
       "      <td>40.0</td>\n",
       "      <td>5</td>\n",
       "      <td>40</td>\n",
       "      <td>1977-5</td>\n",
       "      <td>7500.0</td>\n",
       "      <td>NaN</td>\n",
       "    </tr>\n",
       "  </tbody>\n",
       "</table>\n",
       "</div>"
      ],
      "text/plain": [
       "   year        rincome          income  hompop  granborn   age  commute  hrs1  \\\n",
       "0  1977  $7000 to 7999   $7000 to 7999     1.0       4.0  63.0      NaN  40.0   \n",
       "1  1977  $8000 to 9999  $10000 - 14999     2.0       4.0  31.0      NaN  15.0   \n",
       "2  1977            NaN             NaN     2.0       4.0  66.0      NaN   NaN   \n",
       "3  1977            NaN  $20000 - 24999     2.0       2.0  26.0      NaN   NaN   \n",
       "4  1977  $7000 to 7999             NaN     9.0       1.0  20.0      NaN  40.0   \n",
       "\n",
       "   id  prestg10 uniqueID  rincome2  income2  \n",
       "0   1        39   1977-1    7500.0   7500.0  \n",
       "1   2        32   1977-2    9000.0  12500.0  \n",
       "2   3        25   1977-3       NaN      NaN  \n",
       "3   4        39   1977-4       NaN  22500.0  \n",
       "4   5        40   1977-5    7500.0      NaN  "
      ]
     },
     "execution_count": 19,
     "metadata": {},
     "output_type": "execute_result"
    }
   ],
   "source": [
    "df.head()"
   ]
  },
  {
   "cell_type": "markdown",
   "metadata": {},
   "source": [
    "A minimum of 5 variables in your dataset used during your analysis (for help with  selecting, the author made his selection on page 6 of your book). Consider what you  think could have an impact on your question – remember this is never perfect, so don’t  be worried if you miss one (Chapter 1). \n",
    "#### Describe what the 5 variables mean in the dataset (Chapter 1). \n",
    "#### Histograms of each of 5 variables\n",
    "Include a histogram of each of the 5 variables – in your summary and analysis, identify  any outliers and explain the reasoning for them being outliers and how you believe they  should be handled (Chapter 2).  "
   ]
  },
  {
   "cell_type": "code",
   "execution_count": null,
   "metadata": {},
   "outputs": [],
   "source": [
    "preg = nsfg.ReadFemPreg()\n",
    "live = preg[preg.outcome == 1]"
   ]
  },
  {
   "cell_type": "code",
   "execution_count": 31,
   "metadata": {
    "scrolled": true
   },
   "outputs": [
    {
     "data": {
      "image/png": "[encoded data removed]",
      "text/plain": [
       "<Figure size 432x288 with 1 Axes>"
      ]
     },
     "metadata": {
      "needs_background": "light"
     },
     "output_type": "display_data"
    }
   ],
   "source": [
    "hist1 = thinkstats2.Hist(df.year, label='year')\n",
    "thinkplot.Hist(hist1)\n",
    "thinkplot.Config(xlabel='Survey Year', ylabel='# Respondents')"
   ]
  },
  {
   "cell_type": "code",
   "execution_count": 32,
   "metadata": {
    "scrolled": true
   },
   "outputs": [
    {
     "data": {
      "image/png": "[encoded data removed]",
      "text/plain": [
       "<Figure size 432x288 with 1 Axes>"
      ]
     },
     "metadata": {
      "needs_background": "light"
     },
     "output_type": "display_data"
    }
   ],
   "source": [
    "hist2 = thinkstats2.Hist(df.granborn, label='granborn')\n",
    "thinkplot.Hist(hist2)\n",
    "thinkplot.Config(xlabel='# Grandparents born outside U.S.', ylabel='# Respondents')"
   ]
  },
  {
   "cell_type": "code",
   "execution_count": 63,
   "metadata": {},
   "outputs": [
    {
     "data": {
      "text/plain": [
       "(31367, 20944)"
      ]
     },
     "execution_count": 63,
     "metadata": {},
     "output_type": "execute_result"
    }
   ],
   "source": [
    "len(df[df.granborn == 0]), len(df[df.granborn > 0])"
   ]
  },
  {
   "cell_type": "code",
   "execution_count": 33,
   "metadata": {},
   "outputs": [
    {
     "data": {
      "image/png": "[encoded data removed]",
      "text/plain": [
       "<Figure size 432x288 with 1 Axes>"
      ]
     },
     "metadata": {
      "needs_background": "light"
     },
     "output_type": "display_data"
    }
   ],
   "source": [
    "hist3 = thinkstats2.Hist(df.hrs1, label='hrs1')\n",
    "thinkplot.Hist(hist3)\n",
    "thinkplot.Config(xlabel='Hrs worked last week', ylabel='# Respondents')"
   ]
  },
  {
   "cell_type": "code",
   "execution_count": 34,
   "metadata": {
    "scrolled": true
   },
   "outputs": [
    {
     "data": {
      "image/png": "[encoded data removed]",
      "text/plain": [
       "<Figure size 432x288 with 1 Axes>"
      ]
     },
     "metadata": {
      "needs_background": "light"
     },
     "output_type": "display_data"
    }
   ],
   "source": [
    "hist4 = thinkstats2.Hist(df.rincome2, label='rincome2')\n",
    "thinkplot.Hist(hist4)\n",
    "thinkplot.Config(xlabel=\"Respondents's Income\", ylabel='# Respondents')"
   ]
  },
  {
   "cell_type": "code",
   "execution_count": 66,
   "metadata": {
    "scrolled": true
   },
   "outputs": [
    {
     "data": {
      "image/png": "[encoded data removed]",
      "text/plain": [
       "<Figure size 432x288 with 1 Axes>"
      ]
     },
     "metadata": {
      "needs_background": "light"
     },
     "output_type": "display_data"
    }
   ],
   "source": [
    "hist4b = thinkstats2.Hist(df.income2, label='income2')\n",
    "thinkplot.Hist(hist4b)\n",
    "thinkplot.Config(xlabel=\"Household Income\", ylabel='# Respondents')"
   ]
  },
  {
   "cell_type": "code",
   "execution_count": 70,
   "metadata": {
    "scrolled": true
   },
   "outputs": [
    {
     "data": {
      "image/png": "[encoded data removed]",
      "text/plain": [
       "<Figure size 432x288 with 1 Axes>"
      ]
     },
     "metadata": {
      "needs_background": "light"
     },
     "output_type": "display_data"
    }
   ],
   "source": [
    "width = 450\n",
    "thinkplot.PrePlot(2)\n",
    "thinkplot.Hist(hist4, align='right', width=width, label=\"single\")\n",
    "thinkplot.Hist(hist4b, align='left', width=width, label=\"household\")\n",
    "thinkplot.Config(xlabel='Income', ylabel='Count')#, xlim=[0, 25000])"
   ]
  },
  {
   "cell_type": "code",
   "execution_count": 75,
   "metadata": {},
   "outputs": [
    {
     "data": {
      "text/plain": [
       "(35241, 50934)"
      ]
     },
     "execution_count": 75,
     "metadata": {},
     "output_type": "execute_result"
    }
   ],
   "source": [
    "df['rincome2'].count(), df['income2'].count()"
   ]
  },
  {
   "cell_type": "code",
   "execution_count": 35,
   "metadata": {},
   "outputs": [
    {
     "data": {
      "image/png": "[encoded data removed]",
      "text/plain": [
       "<Figure size 432x288 with 1 Axes>"
      ]
     },
     "metadata": {
      "needs_background": "light"
     },
     "output_type": "display_data"
    }
   ],
   "source": [
    "hist5 = thinkstats2.Hist(df.prestg10, label='prestg10')\n",
    "thinkplot.Hist(hist5)\n",
    "thinkplot.Config(xlabel='Occupational Prestige Score', ylabel='# Respondents')"
   ]
  },
  {
   "cell_type": "code",
   "execution_count": 36,
   "metadata": {
    "scrolled": false
   },
   "outputs": [
    {
     "data": {
      "image/png": "[encoded data removed]",
      "text/plain": [
       "<Figure size 432x288 with 1 Axes>"
      ]
     },
     "metadata": {
      "needs_background": "light"
     },
     "output_type": "display_data"
    }
   ],
   "source": [
    "hist6 = thinkstats2.Hist(df.commute, label='commute')\n",
    "thinkplot.Hist(hist6)\n",
    "thinkplot.Config(xlabel='Work Commute (min)', ylabel='# Respondents')"
   ]
  },
  {
   "cell_type": "code",
   "execution_count": 64,
   "metadata": {
    "scrolled": true
   },
   "outputs": [
    {
     "data": {
      "image/png": "[encoded data removed]",
      "text/plain": [
       "<Figure size 432x288 with 1 Axes>"
      ]
     },
     "metadata": {
      "needs_background": "light"
     },
     "output_type": "display_data"
    }
   ],
   "source": [
    "hist7 = thinkstats2.Hist(df.hompop, label='hompop')\n",
    "thinkplot.Hist(hist7)\n",
    "thinkplot.Config(xlabel='# in Household', ylabel='# Respondents')"
   ]
  },
  {
   "cell_type": "code",
   "execution_count": 65,
   "metadata": {},
   "outputs": [
    {
     "data": {
      "image/png": "[encoded data removed]",
      "text/plain": [
       "<Figure size 432x288 with 1 Axes>"
      ]
     },
     "metadata": {
      "needs_background": "light"
     },
     "output_type": "display_data"
    }
   ],
   "source": [
    "hist8 = thinkstats2.Hist(df.age, label='age')\n",
    "thinkplot.Hist(hist8)\n",
    "thinkplot.Config(xlabel='Age of Respondent (yr)', ylabel='# Respondents')"
   ]
  },
  {
   "cell_type": "code",
   "execution_count": 37,
   "metadata": {
    "scrolled": true
   },
   "outputs": [
    {
     "data": {
      "text/plain": [
       "15.0"
      ]
     },
     "execution_count": 37,
     "metadata": {},
     "output_type": "execute_result"
    }
   ],
   "source": [
    "df.commute.median()"
   ]
  },
  {
   "cell_type": "code",
   "execution_count": 38,
   "metadata": {},
   "outputs": [],
   "source": [
    "close = df[df.commute <= 15]\n",
    "far = df[df.commute > 15]\n",
    "\n",
    "close_hist = thinkstats2.Hist(close.rincome2, label='close')\n",
    "far_hist = thinkstats2.Hist(far.rincome2, label='far')"
   ]
  },
  {
   "cell_type": "code",
   "execution_count": 42,
   "metadata": {},
   "outputs": [
    {
     "data": {
      "text/plain": [
       "Hist({25000.0: 116, 12500.0: 72, 17500.0: 51, 22500.0: 46, 9000.0: 17, 2000.0: 14, 7500.0: 13, 3500.0: 13, 4500.0: 12, 5500.0: 11, 500.0: 11, 6500.0: 6}, 'far')"
      ]
     },
     "execution_count": 42,
     "metadata": {},
     "output_type": "execute_result"
    }
   ],
   "source": [
    "# far_hist"
   ]
  },
  {
   "cell_type": "code",
   "execution_count": 50,
   "metadata": {
    "scrolled": true
   },
   "outputs": [
    {
     "data": {
      "image/png": "[encoded data removed]",
      "text/plain": [
       "<Figure size 432x288 with 1 Axes>"
      ]
     },
     "metadata": {
      "needs_background": "light"
     },
     "output_type": "display_data"
    }
   ],
   "source": [
    "width = 450\n",
    "thinkplot.PrePlot(2)\n",
    "thinkplot.Hist(close_hist, align='right', width=width)\n",
    "thinkplot.Hist(far_hist, align='left', width=width)\n",
    "thinkplot.Config(xlabel='Income', ylabel='Count')#, xlim=[0, 25000])"
   ]
  },
  {
   "cell_type": "code",
   "execution_count": 60,
   "metadata": {},
   "outputs": [
    {
     "data": {
      "text/plain": [
       "(721, 609)"
      ]
     },
     "execution_count": 60,
     "metadata": {},
     "output_type": "execute_result"
    }
   ],
   "source": [
    "len(close), len(far)"
   ]
  },
  {
   "cell_type": "code",
   "execution_count": null,
   "metadata": {},
   "outputs": [],
   "source": []
  },
  {
   "cell_type": "markdown",
   "metadata": {},
   "source": [
    "#### Mean, Mode, Spread, & Tails\n",
    "Include the other descriptive characteristics about the variables: Mean, Mode, Spread,  and Tails (Chapter 2). "
   ]
  },
  {
   "cell_type": "code",
   "execution_count": null,
   "metadata": {},
   "outputs": [],
   "source": [
    "df.year.mean(), df.year.min(), df.year.max()"
   ]
  },
  {
   "cell_type": "code",
   "execution_count": null,
   "metadata": {},
   "outputs": [],
   "source": [
    "# from pandas import DataFrame, read_csv\n",
    "# import matplotlib.pyplot as plt\n",
    "# import pandas as pd \n",
    "\n",
    "# file = r'data/Presidents.xls'\n",
    "# df = pd.read_excel(file)\n",
    "\n",
    "# show data\n",
    "print('Min: ', df['Years in office'].min())\n",
    "print('Max: ', df['Years in office'].max())\n",
    "print('Sum: ', df['Years in office'].sum())"
   ]
  },
  {
   "cell_type": "code",
   "execution_count": null,
   "metadata": {},
   "outputs": [],
   "source": []
  },
  {
   "cell_type": "code",
   "execution_count": null,
   "metadata": {},
   "outputs": [],
   "source": []
  },
  {
   "cell_type": "markdown",
   "metadata": {},
   "source": [
    "#### Compare two scenarios in your data using a PMF\n",
    "Using pg. 29 of your text as an example, compare two scenarios in your data using a  PMF. \n",
    "\n",
    "Reminder, this isn’t comparing two variables against each other – it is the same  variable, but a different scenario. Almost like a filter. \n",
    "\n",
    "The example in the book is first  babies compared to all other babies, it is still the same variable, but breaking the data  out based on criteria we are exploring (Chapter 3)."
   ]
  },
  {
   "cell_type": "code",
   "execution_count": null,
   "metadata": {},
   "outputs": [],
   "source": []
  },
  {
   "cell_type": "code",
   "execution_count": null,
   "metadata": {},
   "outputs": [],
   "source": []
  },
  {
   "cell_type": "markdown",
   "metadata": {},
   "source": [
    "#### Create 1 CDF with one of your variables\n",
    "Create 1 CDF with one of your variables, using page 41-44 as your guide, what does this  tell you about your variable and how does it address the question you are trying to  answer (Chapter 4). "
   ]
  },
  {
   "cell_type": "code",
   "execution_count": null,
   "metadata": {},
   "outputs": [],
   "source": []
  },
  {
   "cell_type": "code",
   "execution_count": null,
   "metadata": {},
   "outputs": [],
   "source": []
  },
  {
   "cell_type": "markdown",
   "metadata": {},
   "source": [
    "#### Plot 1 analytical distribution\n",
    "Plot 1 analytical distribution and provide your analysis on how it applies to the dataset  you have chosen (Chapter 5). "
   ]
  },
  {
   "cell_type": "code",
   "execution_count": null,
   "metadata": {},
   "outputs": [],
   "source": []
  },
  {
   "cell_type": "code",
   "execution_count": null,
   "metadata": {},
   "outputs": [],
   "source": []
  },
  {
   "cell_type": "markdown",
   "metadata": {},
   "source": [
    "#### Create two scatter plots\n",
    "Create two scatter plots comparing two variables and provide your analysis on  correlation and causation. \n",
    "\n",
    "Remember, covariance, Pearson’s correlation, and Non Linear Relationships should also be considered during your analysis (Chapter 7). "
   ]
  },
  {
   "cell_type": "code",
   "execution_count": null,
   "metadata": {},
   "outputs": [],
   "source": []
  },
  {
   "cell_type": "code",
   "execution_count": null,
   "metadata": {},
   "outputs": [],
   "source": []
  },
  {
   "cell_type": "markdown",
   "metadata": {},
   "source": [
    "#### Test Hypothesis\n",
    "Conduct a test on your hypothesis using one of the methods covered in Chapter 9."
   ]
  },
  {
   "cell_type": "code",
   "execution_count": null,
   "metadata": {},
   "outputs": [],
   "source": []
  },
  {
   "cell_type": "code",
   "execution_count": null,
   "metadata": {},
   "outputs": [],
   "source": []
  },
  {
   "cell_type": "markdown",
   "metadata": {},
   "source": [
    "#### Conduct Regression Analysis\n",
    "For this project, conduct a regression analysis on either one dependent and one  explanatory variable, or multiple explanatory variables (Chapter 10 & 11). "
   ]
  },
  {
   "cell_type": "code",
   "execution_count": null,
   "metadata": {},
   "outputs": [],
   "source": []
  }
 ],
 "metadata": {
  "kernelspec": {
   "display_name": "Python 3",
   "language": "python",
   "name": "python3"
  },
  "language_info": {
   "codemirror_mode": {
    "name": "ipython",
    "version": 3
   },
   "file_extension": ".py",
   "mimetype": "text/x-python",
   "name": "python",
   "nbconvert_exporter": "python",
   "pygments_lexer": "ipython3",
   "version": "3.8.3"
  }
 },
 "nbformat": 4,
 "nbformat_minor": 4
}
