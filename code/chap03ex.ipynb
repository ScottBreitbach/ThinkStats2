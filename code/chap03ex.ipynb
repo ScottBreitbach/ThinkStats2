{
 "cells": [
  {
   "cell_type": "markdown",
   "metadata": {},
   "source": [
    "## Scott Breitbach\n",
    "### DSC530: Week 4\n",
    "### Assignment 4.2\n",
    "### 22-Sep-2020"
   ]
  },
  {
   "cell_type": "markdown",
   "metadata": {},
   "source": [
    "# Examples and Exercises from Think Stats, 2nd Edition\n",
    "\n",
    "http://thinkstats2.com\n",
    "\n",
    "Copyright 2016 Allen B. Downey\n",
    "\n",
    "MIT License: https://opensource.org/licenses/MIT\n"
   ]
  },
  {
   "cell_type": "code",
   "execution_count": 1,
   "metadata": {},
   "outputs": [],
   "source": [
    "from __future__ import print_function, division\n",
    "\n",
    "%matplotlib inline\n",
    "\n",
    "import numpy as np\n",
    "\n",
    "import nsfg\n",
    "import first\n",
    "import thinkstats2\n",
    "import thinkplot"
   ]
  },
  {
   "cell_type": "markdown",
   "metadata": {},
   "source": [
    "Again, I'll load the NSFG pregnancy file and select live births:"
   ]
  },
  {
   "cell_type": "code",
   "execution_count": 2,
   "metadata": {},
   "outputs": [],
   "source": [
    "preg = nsfg.ReadFemPreg()\n",
    "live = preg[preg.outcome == 1]"
   ]
  },
  {
   "cell_type": "markdown",
   "metadata": {},
   "source": [
    "Here's the histogram of birth weights:"
   ]
  },
  {
   "cell_type": "code",
   "execution_count": 3,
   "metadata": {},
   "outputs": [
    {
     "data": {
      "image/png": "[encoded data removed]",
      "text/plain": [
       "<Figure size 432x288 with 1 Axes>"
      ]
     },
     "metadata": {
      "needs_background": "light"
     },
     "output_type": "display_data"
    }
   ],
   "source": [
    "hist = thinkstats2.Hist(live.birthwgt_lb, label='birthwgt_lb')\n",
    "thinkplot.Hist(hist)\n",
    "thinkplot.Config(xlabel='Birth weight (pounds)', ylabel='Count')"
   ]
  },
  {
   "cell_type": "markdown",
   "metadata": {},
   "source": [
    "To normalize the distribution, we could divide through by the total count:"
   ]
  },
  {
   "cell_type": "code",
   "execution_count": 5,
   "metadata": {},
   "outputs": [
    {
     "data": {
      "text/plain": [
       "Hist({7.0: 0.3356450902686041, 6.0: 0.24471598414795245, 8.0: 0.2079480405107882, 5.0: 0.07672831351827389, 9.0: 0.06858212241303391, 4.0: 0.025209158960810215, 10.0: 0.01453104359313078, 3.0: 0.01078819903126376, 2.0: 0.005834434169969176, 1.0: 0.004403346543372964, 11.0: 0.0028621752531924264, 12.0: 0.001100836635843241, 0.0: 0.0008806693086745927, 13.0: 0.00033025099075297226, 14.0: 0.00033025099075297226, 15.0: 0.00011008366358432408}, 'birthwgt_lb')"
      ]
     },
     "execution_count": 5,
     "metadata": {},
     "output_type": "execute_result"
    }
   ],
   "source": [
    "n = hist.Total()\n",
    "pmf = hist.Copy()\n",
    "for x, freq in hist.Items():\n",
    "    pmf[x] = freq / n\n",
    "    \n",
    "pmf"
   ]
  },
  {
   "cell_type": "markdown",
   "metadata": {},
   "source": [
    "The result is a Probability Mass Function (PMF)."
   ]
  },
  {
   "cell_type": "code",
   "execution_count": 8,
   "metadata": {
    "scrolled": true
   },
   "outputs": [
    {
     "data": {
      "image/png": "[encoded data removed]",
      "text/plain": [
       "<Figure size 432x288 with 1 Axes>"
      ]
     },
     "metadata": {
      "needs_background": "light"
     },
     "output_type": "display_data"
    }
   ],
   "source": [
    "thinkplot.Hist(pmf)\n",
    "thinkplot.Config(xlabel='Birth weight (pounds)', ylabel='PMF')"
   ]
  },
  {
   "cell_type": "code",
   "execution_count": 9,
   "metadata": {},
   "outputs": [
    {
     "data": {
      "image/png": "[encoded data removed]",
      "text/plain": [
       "<Figure size 432x288 with 1 Axes>"
      ]
     },
     "metadata": {
      "needs_background": "light"
     },
     "output_type": "display_data"
    }
   ],
   "source": [
    "thinkplot.pmf(pmf)"
   ]
  },
  {
   "cell_type": "markdown",
   "metadata": {},
   "source": [
    "More directly, we can create a Pmf object."
   ]
  },
  {
   "cell_type": "code",
   "execution_count": 15,
   "metadata": {},
   "outputs": [
    {
     "data": {
      "text/plain": [
       "Pmf({1: 0.2, 2: 0.4, 3: 0.2, 5: 0.2})"
      ]
     },
     "execution_count": 15,
     "metadata": {},
     "output_type": "execute_result"
    }
   ],
   "source": [
    "pmf = thinkstats2.Pmf([1, 2, 2, 3, 5])\n",
    "pmf"
   ]
  },
  {
   "cell_type": "markdown",
   "metadata": {},
   "source": [
    "`Pmf` provides `Prob`, which looks up a value and returns its probability:"
   ]
  },
  {
   "cell_type": "code",
   "execution_count": 16,
   "metadata": {},
   "outputs": [
    {
     "data": {
      "text/plain": [
       "0.4"
      ]
     },
     "execution_count": 16,
     "metadata": {},
     "output_type": "execute_result"
    }
   ],
   "source": [
    "pmf.Prob(2)"
   ]
  },
  {
   "cell_type": "markdown",
   "metadata": {},
   "source": [
    "The bracket operator does the same thing."
   ]
  },
  {
   "cell_type": "code",
   "execution_count": 17,
   "metadata": {},
   "outputs": [
    {
     "data": {
      "text/plain": [
       "0.4"
      ]
     },
     "execution_count": 17,
     "metadata": {},
     "output_type": "execute_result"
    }
   ],
   "source": [
    "pmf[2]"
   ]
  },
  {
   "cell_type": "markdown",
   "metadata": {},
   "source": [
    "The `Incr` method adds to the probability associated with a given values."
   ]
  },
  {
   "cell_type": "code",
   "execution_count": 18,
   "metadata": {},
   "outputs": [
    {
     "data": {
      "text/plain": [
       "0.6000000000000001"
      ]
     },
     "execution_count": 18,
     "metadata": {},
     "output_type": "execute_result"
    }
   ],
   "source": [
    "pmf.Incr(2, 0.2)\n",
    "pmf[2]"
   ]
  },
  {
   "cell_type": "markdown",
   "metadata": {},
   "source": [
    "The `Mult` method multiplies the probability associated with a value."
   ]
  },
  {
   "cell_type": "code",
   "execution_count": 19,
   "metadata": {},
   "outputs": [
    {
     "data": {
      "text/plain": [
       "0.30000000000000004"
      ]
     },
     "execution_count": 19,
     "metadata": {},
     "output_type": "execute_result"
    }
   ],
   "source": [
    "pmf.Mult(2, 0.5)\n",
    "pmf[2]"
   ]
  },
  {
   "cell_type": "markdown",
   "metadata": {},
   "source": [
    "`Total` returns the total probability (which is no longer 1, because we changed one of the probabilities)."
   ]
  },
  {
   "cell_type": "code",
   "execution_count": 20,
   "metadata": {},
   "outputs": [
    {
     "data": {
      "text/plain": [
       "0.8999999999999999"
      ]
     },
     "execution_count": 20,
     "metadata": {},
     "output_type": "execute_result"
    }
   ],
   "source": [
    "pmf.Total()"
   ]
  },
  {
   "cell_type": "markdown",
   "metadata": {},
   "source": [
    "`Normalize` divides through by the total probability, making it 1 again."
   ]
  },
  {
   "cell_type": "code",
   "execution_count": 21,
   "metadata": {},
   "outputs": [
    {
     "data": {
      "text/plain": [
       "1.0"
      ]
     },
     "execution_count": 21,
     "metadata": {},
     "output_type": "execute_result"
    }
   ],
   "source": [
    "pmf.Normalize()\n",
    "pmf.Total()"
   ]
  },
  {
   "cell_type": "markdown",
   "metadata": {},
   "source": [
    "Here's the PMF of pregnancy length for live births."
   ]
  },
  {
   "cell_type": "code",
   "execution_count": 22,
   "metadata": {},
   "outputs": [],
   "source": [
    "pmf = thinkstats2.Pmf(live.prglngth, label='prglngth')"
   ]
  },
  {
   "cell_type": "markdown",
   "metadata": {},
   "source": [
    "Here's what it looks like plotted with `Hist`, which makes a bar graph."
   ]
  },
  {
   "cell_type": "code",
   "execution_count": 23,
   "metadata": {},
   "outputs": [
    {
     "data": {
      "image/png": "[encoded data removed]",
      "text/plain": [
       "<Figure size 432x288 with 1 Axes>"
      ]
     },
     "metadata": {
      "needs_background": "light"
     },
     "output_type": "display_data"
    }
   ],
   "source": [
    "thinkplot.Hist(pmf)\n",
    "thinkplot.Config(xlabel='Pregnancy length (weeks)', ylabel='Pmf')"
   ]
  },
  {
   "cell_type": "markdown",
   "metadata": {},
   "source": [
    "Here's what it looks like plotted with `Pmf`, which makes a step function."
   ]
  },
  {
   "cell_type": "code",
   "execution_count": 24,
   "metadata": {},
   "outputs": [
    {
     "data": {
      "image/png": "[encoded data removed]",
      "text/plain": [
       "<Figure size 432x288 with 1 Axes>"
      ]
     },
     "metadata": {
      "needs_background": "light"
     },
     "output_type": "display_data"
    }
   ],
   "source": [
    "thinkplot.Pmf(pmf)\n",
    "thinkplot.Config(xlabel='Pregnancy length (weeks)', ylabel='Pmf')"
   ]
  },
  {
   "cell_type": "markdown",
   "metadata": {},
   "source": [
    "We can use `MakeFrames` to return DataFrames for all live births, first babies, and others."
   ]
  },
  {
   "cell_type": "code",
   "execution_count": 25,
   "metadata": {},
   "outputs": [],
   "source": [
    "live, firsts, others = first.MakeFrames()"
   ]
  },
  {
   "cell_type": "markdown",
   "metadata": {},
   "source": [
    "Here are the distributions of pregnancy length."
   ]
  },
  {
   "cell_type": "code",
   "execution_count": 26,
   "metadata": {},
   "outputs": [],
   "source": [
    "first_pmf = thinkstats2.Pmf(firsts.prglngth, label='firsts')\n",
    "other_pmf = thinkstats2.Pmf(others.prglngth, label='others')"
   ]
  },
  {
   "cell_type": "markdown",
   "metadata": {},
   "source": [
    "And here's the code that replicates one of the figures in the chapter."
   ]
  },
  {
   "cell_type": "code",
   "execution_count": 27,
   "metadata": {},
   "outputs": [
    {
     "data": {
      "image/png": "[encoded data removed]",
      "text/plain": [
       "<Figure size 864x432 with 2 Axes>"
      ]
     },
     "metadata": {
      "needs_background": "light"
     },
     "output_type": "display_data"
    }
   ],
   "source": [
    "width=0.45\n",
    "axis = [27, 46, 0, 0.6]\n",
    "thinkplot.PrePlot(2, cols=2)\n",
    "thinkplot.Hist(first_pmf, align='right', width=width)\n",
    "thinkplot.Hist(other_pmf, align='left', width=width)\n",
    "thinkplot.Config(xlabel='Pregnancy length(weeks)', ylabel='PMF', axis=axis)\n",
    "\n",
    "thinkplot.PrePlot(2)\n",
    "thinkplot.SubPlot(2)\n",
    "thinkplot.Pmfs([first_pmf, other_pmf])\n",
    "thinkplot.Config(xlabel='Pregnancy length(weeks)', axis=axis)"
   ]
  },
  {
   "cell_type": "markdown",
   "metadata": {},
   "source": [
    "Here's the code that generates a plot of the difference in probability (in percentage points) between first babies and others, for each week of pregnancy (showing only pregnancies considered \"full term\"). "
   ]
  },
  {
   "cell_type": "code",
   "execution_count": 28,
   "metadata": {},
   "outputs": [
    {
     "data": {
      "image/png": "[encoded data removed]",
      "text/plain": [
       "<Figure size 432x288 with 1 Axes>"
      ]
     },
     "metadata": {
      "needs_background": "light"
     },
     "output_type": "display_data"
    }
   ],
   "source": [
    "weeks = range(35, 46)\n",
    "diffs = []\n",
    "for week in weeks:\n",
    "    p1 = first_pmf.Prob(week)\n",
    "    p2 = other_pmf.Prob(week)\n",
    "    diff = 100 * (p1 - p2)\n",
    "    diffs.append(diff)\n",
    "\n",
    "thinkplot.Bar(weeks, diffs)\n",
    "thinkplot.Config(xlabel='Pregnancy length(weeks)', ylabel='Difference (percentage points)')\n"
   ]
  },
  {
   "cell_type": "markdown",
   "metadata": {},
   "source": [
    "### Biasing and unbiasing PMFs\n",
    "\n",
    "Here's the example in the book showing operations we can perform with `Pmf` objects.\n",
    "\n",
    "Suppose we have the following distribution of class sizes."
   ]
  },
  {
   "cell_type": "code",
   "execution_count": 29,
   "metadata": {},
   "outputs": [],
   "source": [
    "d = { 7: 8, 12: 8, 17: 14, 22: 4, \n",
    "     27: 6, 32: 12, 37: 8, 42: 3, 47: 2 }\n",
    "\n",
    "pmf = thinkstats2.Pmf(d, label='actual')"
   ]
  },
  {
   "cell_type": "markdown",
   "metadata": {},
   "source": [
    "This function computes the biased PMF we would get if we surveyed students and asked about the size of the classes they are in."
   ]
  },
  {
   "cell_type": "code",
   "execution_count": 30,
   "metadata": {},
   "outputs": [],
   "source": [
    "def BiasPmf(pmf, label):\n",
    "    new_pmf = pmf.Copy(label=label)\n",
    "\n",
    "    for x, p in pmf.Items():\n",
    "        new_pmf.Mult(x, x)\n",
    "        \n",
    "    new_pmf.Normalize()\n",
    "    return new_pmf"
   ]
  },
  {
   "cell_type": "markdown",
   "metadata": {},
   "source": [
    "The following graph shows the difference between the actual and observed distributions."
   ]
  },
  {
   "cell_type": "code",
   "execution_count": 31,
   "metadata": {},
   "outputs": [
    {
     "data": {
      "image/png": "[encoded data removed]",
      "text/plain": [
       "<Figure size 432x288 with 1 Axes>"
      ]
     },
     "metadata": {
      "needs_background": "light"
     },
     "output_type": "display_data"
    }
   ],
   "source": [
    "biased_pmf = BiasPmf(pmf, label='observed')\n",
    "thinkplot.PrePlot(2)\n",
    "thinkplot.Pmfs([pmf, biased_pmf])\n",
    "thinkplot.Config(xlabel='Class size', ylabel='PMF')"
   ]
  },
  {
   "cell_type": "markdown",
   "metadata": {},
   "source": [
    "The observed mean is substantially higher than the actual."
   ]
  },
  {
   "cell_type": "code",
   "execution_count": 32,
   "metadata": {},
   "outputs": [
    {
     "name": "stdout",
     "output_type": "stream",
     "text": [
      "Actual mean 23.692307692307693\n",
      "Observed mean 29.123376623376625\n"
     ]
    }
   ],
   "source": [
    "print('Actual mean', pmf.Mean())\n",
    "print('Observed mean', biased_pmf.Mean())\n",
    "\n",
    "# actual mean confirmed in excel with (sum(num_students*class_size))/(sum(num_classes)) = 24\n",
    "# observed mean confirmed in excel with (sum(num_students*class_size^2))/(sum(num_students*class_size)) = 29"
   ]
  },
  {
   "cell_type": "markdown",
   "metadata": {},
   "source": [
    "If we were only able to collect the biased sample, we could \"unbias\" it by applying the inverse operation."
   ]
  },
  {
   "cell_type": "code",
   "execution_count": 34,
   "metadata": {},
   "outputs": [],
   "source": [
    "def UnbiasPmf(pmf, label=None):\n",
    "    new_pmf = pmf.Copy(label=label)\n",
    "\n",
    "    for x, p in pmf.Items():\n",
    "        new_pmf[x] *= 1/x\n",
    "        \n",
    "    new_pmf.Normalize()\n",
    "    return new_pmf"
   ]
  },
  {
   "cell_type": "markdown",
   "metadata": {},
   "source": [
    "We can unbias the biased PMF:"
   ]
  },
  {
   "cell_type": "code",
   "execution_count": 35,
   "metadata": {},
   "outputs": [
    {
     "name": "stdout",
     "output_type": "stream",
     "text": [
      "Unbiased mean 23.69230769230769\n"
     ]
    }
   ],
   "source": [
    "unbiased = UnbiasPmf(biased_pmf, label='unbiased')\n",
    "print('Unbiased mean', unbiased.Mean())"
   ]
  },
  {
   "cell_type": "markdown",
   "metadata": {},
   "source": [
    "And plot the two distributions to confirm they are the same."
   ]
  },
  {
   "cell_type": "code",
   "execution_count": 36,
   "metadata": {},
   "outputs": [
    {
     "data": {
      "image/png": "[encoded data removed]",
      "text/plain": [
       "<Figure size 432x288 with 1 Axes>"
      ]
     },
     "metadata": {
      "needs_background": "light"
     },
     "output_type": "display_data"
    }
   ],
   "source": [
    "thinkplot.PrePlot(2)\n",
    "thinkplot.Pmfs([pmf, unbiased])\n",
    "thinkplot.Config(xlabel='Class size', ylabel='PMF')"
   ]
  },
  {
   "cell_type": "markdown",
   "metadata": {},
   "source": [
    "### Pandas indexing\n",
    "\n",
    "Here's an example of a small DataFrame."
   ]
  },
  {
   "cell_type": "code",
   "execution_count": 37,
   "metadata": {},
   "outputs": [
    {
     "data": {
      "text/html": [
       "<div>\n",
       "<style scoped>\n",
       "    .dataframe tbody tr th:only-of-type {\n",
       "        vertical-align: middle;\n",
       "    }\n",
       "\n",
       "    .dataframe tbody tr th {\n",
       "        vertical-align: top;\n",
       "    }\n",
       "\n",
       "    .dataframe thead th {\n",
       "        text-align: right;\n",
       "    }\n",
       "</style>\n",
       "<table border=\"1\" class=\"dataframe\">\n",
       "  <thead>\n",
       "    <tr style=\"text-align: right;\">\n",
       "      <th></th>\n",
       "      <th>0</th>\n",
       "      <th>1</th>\n",
       "    </tr>\n",
       "  </thead>\n",
       "  <tbody>\n",
       "    <tr>\n",
       "      <th>0</th>\n",
       "      <td>0.736484</td>\n",
       "      <td>-0.419184</td>\n",
       "    </tr>\n",
       "    <tr>\n",
       "      <th>1</th>\n",
       "      <td>-0.133398</td>\n",
       "      <td>-1.905402</td>\n",
       "    </tr>\n",
       "    <tr>\n",
       "      <th>2</th>\n",
       "      <td>-0.865073</td>\n",
       "      <td>0.754656</td>\n",
       "    </tr>\n",
       "    <tr>\n",
       "      <th>3</th>\n",
       "      <td>0.178084</td>\n",
       "      <td>-1.803201</td>\n",
       "    </tr>\n",
       "  </tbody>\n",
       "</table>\n",
       "</div>"
      ],
      "text/plain": [
       "          0         1\n",
       "0  0.736484 -0.419184\n",
       "1 -0.133398 -1.905402\n",
       "2 -0.865073  0.754656\n",
       "3  0.178084 -1.803201"
      ]
     },
     "execution_count": 37,
     "metadata": {},
     "output_type": "execute_result"
    }
   ],
   "source": [
    "import numpy as np\n",
    "import pandas\n",
    "array = np.random.randn(4, 2)\n",
    "df = pandas.DataFrame(array)\n",
    "df"
   ]
  },
  {
   "cell_type": "markdown",
   "metadata": {},
   "source": [
    "We can specify column names when we create the DataFrame:"
   ]
  },
  {
   "cell_type": "code",
   "execution_count": 38,
   "metadata": {},
   "outputs": [
    {
     "data": {
      "text/html": [
       "<div>\n",
       "<style scoped>\n",
       "    .dataframe tbody tr th:only-of-type {\n",
       "        vertical-align: middle;\n",
       "    }\n",
       "\n",
       "    .dataframe tbody tr th {\n",
       "        vertical-align: top;\n",
       "    }\n",
       "\n",
       "    .dataframe thead th {\n",
       "        text-align: right;\n",
       "    }\n",
       "</style>\n",
       "<table border=\"1\" class=\"dataframe\">\n",
       "  <thead>\n",
       "    <tr style=\"text-align: right;\">\n",
       "      <th></th>\n",
       "      <th>A</th>\n",
       "      <th>B</th>\n",
       "    </tr>\n",
       "  </thead>\n",
       "  <tbody>\n",
       "    <tr>\n",
       "      <th>0</th>\n",
       "      <td>0.736484</td>\n",
       "      <td>-0.419184</td>\n",
       "    </tr>\n",
       "    <tr>\n",
       "      <th>1</th>\n",
       "      <td>-0.133398</td>\n",
       "      <td>-1.905402</td>\n",
       "    </tr>\n",
       "    <tr>\n",
       "      <th>2</th>\n",
       "      <td>-0.865073</td>\n",
       "      <td>0.754656</td>\n",
       "    </tr>\n",
       "    <tr>\n",
       "      <th>3</th>\n",
       "      <td>0.178084</td>\n",
       "      <td>-1.803201</td>\n",
       "    </tr>\n",
       "  </tbody>\n",
       "</table>\n",
       "</div>"
      ],
      "text/plain": [
       "          A         B\n",
       "0  0.736484 -0.419184\n",
       "1 -0.133398 -1.905402\n",
       "2 -0.865073  0.754656\n",
       "3  0.178084 -1.803201"
      ]
     },
     "execution_count": 38,
     "metadata": {},
     "output_type": "execute_result"
    }
   ],
   "source": [
    "columns = ['A', 'B']\n",
    "df = pandas.DataFrame(array, columns=columns)\n",
    "df"
   ]
  },
  {
   "cell_type": "markdown",
   "metadata": {},
   "source": [
    "We can also specify an index that contains labels for the rows."
   ]
  },
  {
   "cell_type": "code",
   "execution_count": 39,
   "metadata": {},
   "outputs": [
    {
     "data": {
      "text/html": [
       "<div>\n",
       "<style scoped>\n",
       "    .dataframe tbody tr th:only-of-type {\n",
       "        vertical-align: middle;\n",
       "    }\n",
       "\n",
       "    .dataframe tbody tr th {\n",
       "        vertical-align: top;\n",
       "    }\n",
       "\n",
       "    .dataframe thead th {\n",
       "        text-align: right;\n",
       "    }\n",
       "</style>\n",
       "<table border=\"1\" class=\"dataframe\">\n",
       "  <thead>\n",
       "    <tr style=\"text-align: right;\">\n",
       "      <th></th>\n",
       "      <th>A</th>\n",
       "      <th>B</th>\n",
       "    </tr>\n",
       "  </thead>\n",
       "  <tbody>\n",
       "    <tr>\n",
       "      <th>a</th>\n",
       "      <td>0.736484</td>\n",
       "      <td>-0.419184</td>\n",
       "    </tr>\n",
       "    <tr>\n",
       "      <th>b</th>\n",
       "      <td>-0.133398</td>\n",
       "      <td>-1.905402</td>\n",
       "    </tr>\n",
       "    <tr>\n",
       "      <th>c</th>\n",
       "      <td>-0.865073</td>\n",
       "      <td>0.754656</td>\n",
       "    </tr>\n",
       "    <tr>\n",
       "      <th>d</th>\n",
       "      <td>0.178084</td>\n",
       "      <td>-1.803201</td>\n",
       "    </tr>\n",
       "  </tbody>\n",
       "</table>\n",
       "</div>"
      ],
      "text/plain": [
       "          A         B\n",
       "a  0.736484 -0.419184\n",
       "b -0.133398 -1.905402\n",
       "c -0.865073  0.754656\n",
       "d  0.178084 -1.803201"
      ]
     },
     "execution_count": 39,
     "metadata": {},
     "output_type": "execute_result"
    }
   ],
   "source": [
    "index = ['a', 'b', 'c', 'd']\n",
    "df = pandas.DataFrame(array, columns=columns, index=index)\n",
    "df"
   ]
  },
  {
   "cell_type": "markdown",
   "metadata": {},
   "source": [
    "Normal indexing selects columns."
   ]
  },
  {
   "cell_type": "code",
   "execution_count": 40,
   "metadata": {},
   "outputs": [
    {
     "data": {
      "text/plain": [
       "a    0.736484\n",
       "b   -0.133398\n",
       "c   -0.865073\n",
       "d    0.178084\n",
       "Name: A, dtype: float64"
      ]
     },
     "execution_count": 40,
     "metadata": {},
     "output_type": "execute_result"
    }
   ],
   "source": [
    "df['A']"
   ]
  },
  {
   "cell_type": "markdown",
   "metadata": {},
   "source": [
    "We can use the `loc` attribute to select rows."
   ]
  },
  {
   "cell_type": "code",
   "execution_count": 41,
   "metadata": {},
   "outputs": [
    {
     "data": {
      "text/plain": [
       "A    0.736484\n",
       "B   -0.419184\n",
       "Name: a, dtype: float64"
      ]
     },
     "execution_count": 41,
     "metadata": {},
     "output_type": "execute_result"
    }
   ],
   "source": [
    "df.loc['a']"
   ]
  },
  {
   "cell_type": "markdown",
   "metadata": {},
   "source": [
    "If you don't want to use the row labels and prefer to access the rows using integer indices, you can use the `iloc` attribute:"
   ]
  },
  {
   "cell_type": "code",
   "execution_count": 42,
   "metadata": {},
   "outputs": [
    {
     "data": {
      "text/plain": [
       "A    0.736484\n",
       "B   -0.419184\n",
       "Name: a, dtype: float64"
      ]
     },
     "execution_count": 42,
     "metadata": {},
     "output_type": "execute_result"
    }
   ],
   "source": [
    "df.iloc[0]"
   ]
  },
  {
   "cell_type": "markdown",
   "metadata": {},
   "source": [
    "`loc` can also take a list of labels."
   ]
  },
  {
   "cell_type": "code",
   "execution_count": 43,
   "metadata": {},
   "outputs": [
    {
     "data": {
      "text/html": [
       "<div>\n",
       "<style scoped>\n",
       "    .dataframe tbody tr th:only-of-type {\n",
       "        vertical-align: middle;\n",
       "    }\n",
       "\n",
       "    .dataframe tbody tr th {\n",
       "        vertical-align: top;\n",
       "    }\n",
       "\n",
       "    .dataframe thead th {\n",
       "        text-align: right;\n",
       "    }\n",
       "</style>\n",
       "<table border=\"1\" class=\"dataframe\">\n",
       "  <thead>\n",
       "    <tr style=\"text-align: right;\">\n",
       "      <th></th>\n",
       "      <th>A</th>\n",
       "      <th>B</th>\n",
       "    </tr>\n",
       "  </thead>\n",
       "  <tbody>\n",
       "    <tr>\n",
       "      <th>a</th>\n",
       "      <td>0.736484</td>\n",
       "      <td>-0.419184</td>\n",
       "    </tr>\n",
       "    <tr>\n",
       "      <th>c</th>\n",
       "      <td>-0.865073</td>\n",
       "      <td>0.754656</td>\n",
       "    </tr>\n",
       "  </tbody>\n",
       "</table>\n",
       "</div>"
      ],
      "text/plain": [
       "          A         B\n",
       "a  0.736484 -0.419184\n",
       "c -0.865073  0.754656"
      ]
     },
     "execution_count": 43,
     "metadata": {},
     "output_type": "execute_result"
    }
   ],
   "source": [
    "indices = ['a', 'c']\n",
    "df.loc[indices]"
   ]
  },
  {
   "cell_type": "markdown",
   "metadata": {},
   "source": [
    "If you provide a slice of labels, `DataFrame` uses it to select rows."
   ]
  },
  {
   "cell_type": "code",
   "execution_count": 44,
   "metadata": {},
   "outputs": [
    {
     "data": {
      "text/html": [
       "<div>\n",
       "<style scoped>\n",
       "    .dataframe tbody tr th:only-of-type {\n",
       "        vertical-align: middle;\n",
       "    }\n",
       "\n",
       "    .dataframe tbody tr th {\n",
       "        vertical-align: top;\n",
       "    }\n",
       "\n",
       "    .dataframe thead th {\n",
       "        text-align: right;\n",
       "    }\n",
       "</style>\n",
       "<table border=\"1\" class=\"dataframe\">\n",
       "  <thead>\n",
       "    <tr style=\"text-align: right;\">\n",
       "      <th></th>\n",
       "      <th>A</th>\n",
       "      <th>B</th>\n",
       "    </tr>\n",
       "  </thead>\n",
       "  <tbody>\n",
       "    <tr>\n",
       "      <th>a</th>\n",
       "      <td>0.736484</td>\n",
       "      <td>-0.419184</td>\n",
       "    </tr>\n",
       "    <tr>\n",
       "      <th>b</th>\n",
       "      <td>-0.133398</td>\n",
       "      <td>-1.905402</td>\n",
       "    </tr>\n",
       "    <tr>\n",
       "      <th>c</th>\n",
       "      <td>-0.865073</td>\n",
       "      <td>0.754656</td>\n",
       "    </tr>\n",
       "  </tbody>\n",
       "</table>\n",
       "</div>"
      ],
      "text/plain": [
       "          A         B\n",
       "a  0.736484 -0.419184\n",
       "b -0.133398 -1.905402\n",
       "c -0.865073  0.754656"
      ]
     },
     "execution_count": 44,
     "metadata": {},
     "output_type": "execute_result"
    }
   ],
   "source": [
    "df['a':'c']"
   ]
  },
  {
   "cell_type": "markdown",
   "metadata": {},
   "source": [
    "If you provide a slice of integers, `DataFrame` selects rows by integer index."
   ]
  },
  {
   "cell_type": "code",
   "execution_count": 45,
   "metadata": {},
   "outputs": [
    {
     "data": {
      "text/html": [
       "<div>\n",
       "<style scoped>\n",
       "    .dataframe tbody tr th:only-of-type {\n",
       "        vertical-align: middle;\n",
       "    }\n",
       "\n",
       "    .dataframe tbody tr th {\n",
       "        vertical-align: top;\n",
       "    }\n",
       "\n",
       "    .dataframe thead th {\n",
       "        text-align: right;\n",
       "    }\n",
       "</style>\n",
       "<table border=\"1\" class=\"dataframe\">\n",
       "  <thead>\n",
       "    <tr style=\"text-align: right;\">\n",
       "      <th></th>\n",
       "      <th>A</th>\n",
       "      <th>B</th>\n",
       "    </tr>\n",
       "  </thead>\n",
       "  <tbody>\n",
       "    <tr>\n",
       "      <th>a</th>\n",
       "      <td>0.736484</td>\n",
       "      <td>-0.419184</td>\n",
       "    </tr>\n",
       "    <tr>\n",
       "      <th>b</th>\n",
       "      <td>-0.133398</td>\n",
       "      <td>-1.905402</td>\n",
       "    </tr>\n",
       "  </tbody>\n",
       "</table>\n",
       "</div>"
      ],
      "text/plain": [
       "          A         B\n",
       "a  0.736484 -0.419184\n",
       "b -0.133398 -1.905402"
      ]
     },
     "execution_count": 45,
     "metadata": {},
     "output_type": "execute_result"
    }
   ],
   "source": [
    "df[0:2]"
   ]
  },
  {
   "cell_type": "markdown",
   "metadata": {},
   "source": [
    "But notice that one method includes the last elements of the slice and one does not.\n",
    "\n",
    "In general, I recommend giving labels to the rows and names to the columns, and using them consistently."
   ]
  },
  {
   "cell_type": "markdown",
   "metadata": {
    "collapsed": true
   },
   "source": [
    "## Exercises"
   ]
  },
  {
   "cell_type": "markdown",
   "metadata": {},
   "source": [
    "**Exercise:** Something like the class size paradox appears if you survey children and ask how many children are in their family. Families with many children are more likely to appear in your sample, and families with no children have no chance to be in the sample.\n",
    "\n",
    "Use the NSFG respondent variable `numkdhh` to construct the actual distribution for the number of children under 18 in the respondents' households.\n",
    "\n",
    "Now compute the biased distribution we would see if we surveyed the children and asked them how many children under 18 (including themselves) are in their household.\n",
    "\n",
    "Plot the actual and biased distributions, and compute their means."
   ]
  },
  {
   "cell_type": "markdown",
   "metadata": {},
   "source": [
    "## Exercise 3-1"
   ]
  },
  {
   "cell_type": "code",
   "execution_count": 47,
   "metadata": {},
   "outputs": [],
   "source": [
    "resp = nsfg.ReadFemResp()"
   ]
  },
  {
   "cell_type": "code",
   "execution_count": 51,
   "metadata": {},
   "outputs": [
    {
     "data": {
      "text/plain": [
       "Pmf({0: 0.466178202276593, 1: 0.21405207379301322, 2: 0.19625801386889966, 3: 0.08713855815779145, 4: 0.025644380478869556, 5: 0.01072877142483318}, 'numkdhh_actual')"
      ]
     },
     "execution_count": 51,
     "metadata": {},
     "output_type": "execute_result"
    }
   ],
   "source": [
    "pmf = thinkstats2.Pmf(resp.numkdhh, label = \"numkdhh_actual\")\n",
    "pmf"
   ]
  },
  {
   "cell_type": "code",
   "execution_count": 52,
   "metadata": {},
   "outputs": [
    {
     "data": {
      "image/png": "[encoded data removed]",
      "text/plain": [
       "<Figure size 432x288 with 1 Axes>"
      ]
     },
     "metadata": {
      "needs_background": "light"
     },
     "output_type": "display_data"
    }
   ],
   "source": [
    "thinkplot.Hist(pmf)\n",
    "thinkplot.Config(xlabel='Number of Kids per Household', ylabel='Pmf')"
   ]
  },
  {
   "cell_type": "code",
   "execution_count": 53,
   "metadata": {},
   "outputs": [],
   "source": [
    "def BiasPmf(pmf, label):\n",
    "    new_pmf = pmf.Copy(label=label)\n",
    "\n",
    "    for x, p in pmf.Items():\n",
    "        new_pmf.Mult(x, x)\n",
    "        \n",
    "    new_pmf.Normalize()\n",
    "    return new_pmf"
   ]
  },
  {
   "cell_type": "code",
   "execution_count": 54,
   "metadata": {},
   "outputs": [
    {
     "data": {
      "image/png": "[encoded data removed]",
      "text/plain": [
       "<Figure size 432x288 with 1 Axes>"
      ]
     },
     "metadata": {
      "needs_background": "light"
     },
     "output_type": "display_data"
    }
   ],
   "source": [
    "biased_pmf = BiasPmf(pmf, label='numkdhh_observed')\n",
    "thinkplot.PrePlot(2)\n",
    "thinkplot.Pmfs([pmf, biased_pmf])\n",
    "thinkplot.Config(xlabel='Family size', ylabel='PMF')"
   ]
  },
  {
   "cell_type": "code",
   "execution_count": 55,
   "metadata": {},
   "outputs": [
    {
     "name": "stdout",
     "output_type": "stream",
     "text": [
      "Actual mean 1.024205155043831\n",
      "Observed mean 2.403679100664282\n"
     ]
    }
   ],
   "source": [
    "print('Actual mean', pmf.Mean())\n",
    "print('Observed mean', biased_pmf.Mean())"
   ]
  },
  {
   "cell_type": "code",
   "execution_count": 42,
   "metadata": {},
   "outputs": [],
   "source": [
    "# Solution goes here"
   ]
  },
  {
   "cell_type": "markdown",
   "metadata": {},
   "source": [
    "**Exercise:** I started this book with the question, \"Are first babies more likely to be late?\" To address it, I computed the difference in means between groups of babies, but I ignored the possibility that there might be a difference between first babies and others for the same woman.\n",
    "\n",
    "To address this version of the question, select respondents who have at least two live births and compute pairwise differences. Does this formulation of the question yield a different result?\n",
    "\n",
    "Hint: use `nsfg.MakePregMap`:"
   ]
  },
  {
   "cell_type": "code",
   "execution_count": 43,
   "metadata": {},
   "outputs": [],
   "source": [
    "live, firsts, others = first.MakeFrames()"
   ]
  },
  {
   "cell_type": "code",
   "execution_count": 44,
   "metadata": {},
   "outputs": [],
   "source": [
    "preg_map = nsfg.MakePregMap(live)"
   ]
  },
  {
   "cell_type": "code",
   "execution_count": 45,
   "metadata": {},
   "outputs": [],
   "source": [
    "# Solution goes here"
   ]
  },
  {
   "cell_type": "code",
   "execution_count": 46,
   "metadata": {},
   "outputs": [],
   "source": [
    "# Solution goes here"
   ]
  },
  {
   "cell_type": "code",
   "execution_count": 47,
   "metadata": {},
   "outputs": [],
   "source": [
    "# Solution goes here"
   ]
  },
  {
   "cell_type": "markdown",
   "metadata": {},
   "source": [
    "**Exercise:** In most foot races, everyone starts at the same time. If you are a fast runner, you usually pass a lot of people at the beginning of the race, but after a few miles everyone around you is going at the same speed.\n",
    "When I ran a long-distance (209 miles) relay race for the first time, I noticed an odd phenomenon: when I overtook another runner, I was usually much faster, and when another runner overtook me, he was usually much faster.\n",
    "\n",
    "At first I thought that the distribution of speeds might be bimodal; that is, there were many slow runners and many fast runners, but few at my speed.\n",
    "\n",
    "Then I realized that I was the victim of a bias similar to the effect of class size. The race was unusual in two ways: it used a staggered start, so teams started at different times; also, many teams included runners at different levels of ability.\n",
    "\n",
    "As a result, runners were spread out along the course with little relationship between speed and location. When I joined the race, the runners near me were (pretty much) a random sample of the runners in the race.\n",
    "\n",
    "So where does the bias come from? During my time on the course, the chance of overtaking a runner, or being overtaken, is proportional to the difference in our speeds. I am more likely to catch a slow runner, and more likely to be caught by a fast runner. But runners at the same speed are unlikely to see each other.\n",
    "\n",
    "Write a function called `ObservedPmf` that takes a `Pmf` representing the actual distribution of runners’ speeds, and the speed of a running observer, and returns a new `Pmf` representing the distribution of runners’ speeds as seen by the observer.\n",
    "\n",
    "To test your function, you can use `relay.py`, which reads the results from the James Joyce Ramble 10K in Dedham MA and converts the pace of each runner to mph.\n",
    "\n",
    "Compute the distribution of speeds you would observe if you ran a relay race at 7 mph with this group of runners."
   ]
  },
  {
   "cell_type": "code",
   "execution_count": 48,
   "metadata": {},
   "outputs": [],
   "source": [
    "import relay\n",
    "\n",
    "results = relay.ReadResults()\n",
    "speeds = relay.GetSpeeds(results)\n",
    "speeds = relay.BinData(speeds, 3, 12, 100)"
   ]
  },
  {
   "cell_type": "code",
   "execution_count": 49,
   "metadata": {},
   "outputs": [
    {
     "data": {
      "image/png": "[encoded data removed]",
      "text/plain": [
       "<Figure size 432x288 with 1 Axes>"
      ]
     },
     "metadata": {},
     "output_type": "display_data"
    }
   ],
   "source": [
    "pmf = thinkstats2.Pmf(speeds, 'actual speeds')\n",
    "thinkplot.Pmf(pmf)\n",
    "thinkplot.Config(xlabel='Speed (mph)', ylabel='PMF')"
   ]
  },
  {
   "cell_type": "code",
   "execution_count": 50,
   "metadata": {},
   "outputs": [],
   "source": [
    "# Solution goes here"
   ]
  },
  {
   "cell_type": "markdown",
   "metadata": {},
   "source": [
    "## Exercise 3-2"
   ]
  },
  {
   "cell_type": "code",
   "execution_count": 82,
   "metadata": {},
   "outputs": [
    {
     "data": {
      "text/plain": [
       "dict_items([(0, 0.466178202276593), (1, 0.21405207379301322), (2, 0.19625801386889966), (3, 0.08713855815779145), (4, 0.025644380478869556), (5, 0.01072877142483318)])"
      ]
     },
     "execution_count": 82,
     "metadata": {},
     "output_type": "execute_result"
    }
   ],
   "source": [
    "pmf.Items()"
   ]
  },
  {
   "cell_type": "code",
   "execution_count": 75,
   "metadata": {},
   "outputs": [],
   "source": [
    "def PmfMean(pmf):\n",
    "    prodsum = 0\n",
    "    for x, p in pmf.Items():\n",
    "        product = x * p\n",
    "        prodsum = prodsum + product\n",
    "        \n",
    "    return prodsum"
   ]
  },
  {
   "cell_type": "code",
   "execution_count": 76,
   "metadata": {},
   "outputs": [
    {
     "data": {
      "text/plain": [
       "1.024205155043831"
      ]
     },
     "execution_count": 76,
     "metadata": {},
     "output_type": "execute_result"
    }
   ],
   "source": [
    "mean = PmfMean(pmf)\n",
    "mean"
   ]
  },
  {
   "cell_type": "code",
   "execution_count": 74,
   "metadata": {},
   "outputs": [
    {
     "data": {
      "text/plain": [
       "1.024205155043831"
      ]
     },
     "execution_count": 74,
     "metadata": {},
     "output_type": "execute_result"
    }
   ],
   "source": [
    "pmf.Mean()"
   ]
  },
  {
   "cell_type": "code",
   "execution_count": 79,
   "metadata": {},
   "outputs": [],
   "source": [
    "def PmfVar(pmf):\n",
    "    xbar = pmf.Mean()\n",
    "    varsum = 0\n",
    "    for x, p in pmf.Items():\n",
    "        var = p * (x - xbar)**2\n",
    "        varsum = varsum + var\n",
    "        \n",
    "    return varsum"
   ]
  },
  {
   "cell_type": "code",
   "execution_count": 80,
   "metadata": {},
   "outputs": [
    {
     "data": {
      "text/plain": [
       "1.4128643263531195"
      ]
     },
     "execution_count": 80,
     "metadata": {},
     "output_type": "execute_result"
    }
   ],
   "source": [
    "variance = PmfVar(pmf)\n",
    "variance"
   ]
  },
  {
   "cell_type": "code",
   "execution_count": 81,
   "metadata": {},
   "outputs": [
    {
     "data": {
      "text/plain": [
       "1.4128643263531195"
      ]
     },
     "execution_count": 81,
     "metadata": {},
     "output_type": "execute_result"
    }
   ],
   "source": [
    "pmf.Var()"
   ]
  },
  {
   "cell_type": "markdown",
   "metadata": {},
   "source": [
    "## Exercise 4-1"
   ]
  },
  {
   "cell_type": "code",
   "execution_count": null,
   "metadata": {},
   "outputs": [],
   "source": [
    "live, firsts, others = first.MakeFrames()"
   ]
  },
  {
   "cell_type": "code",
   "execution_count": 86,
   "metadata": {},
   "outputs": [
    {
     "name": "stdout",
     "output_type": "stream",
     "text": [
      "All Live 9148 9038\n",
      "Firsts 4413 4363\n",
      "Others 4735 4675\n"
     ]
    }
   ],
   "source": [
    "live_wgt = live.totalwgt_lb\n",
    "live_wgt_dropna = live_wgt.dropna()\n",
    "print('All Live', len(live_wgt), len(live_wgt_dropna))\n",
    "\n",
    "first_wgt = firsts.totalwgt_lb\n",
    "first_wgt_dropna = first_wgt.dropna()\n",
    "print('Firsts', len(first_wgt), len(first_wgt_dropna))\n",
    " \n",
    "other_wgt = others.totalwgt_lb\n",
    "other_wgt_dropna = other_wgt.dropna()\n",
    "print('Others', len(other_wgt), len(other_wgt_dropna))\n",
    "\n",
    "first_pmf = thinkstats2.Pmf(first_wgt_dropna, label='first')\n",
    "other_pmf = thinkstats2.Pmf(other_wgt_dropna, label='other')"
   ]
  },
  {
   "cell_type": "code",
   "execution_count": 85,
   "metadata": {},
   "outputs": [],
   "source": [
    "def PercentileRank(scores, your_score):\n",
    "    count = 0\n",
    "    for score in scores:\n",
    "        if score <= your_score:\n",
    "            count += 1\n",
    "\n",
    "    percentile_rank = 100.0 * count / len(scores)\n",
    "    return percentile_rank"
   ]
  },
  {
   "cell_type": "code",
   "execution_count": 99,
   "metadata": {},
   "outputs": [
    {
     "name": "stdout",
     "output_type": "stream",
     "text": [
      "My percentile rank among all newborns 57.75614073910157\n"
     ]
    }
   ],
   "source": [
    "my_rank_all = PercentileRank(live_wgt_dropna, 7.5)\n",
    "print(\"My percentile rank among all newborns:\", my_rank_all)"
   ]
  },
  {
   "cell_type": "code",
   "execution_count": 100,
   "metadata": {},
   "outputs": [
    {
     "name": "stdout",
     "output_type": "stream",
     "text": [
      "My percentile rank among later born infants: 55.8716577540107\n"
     ]
    }
   ],
   "source": [
    "my_rank_others = PercentileRank(other_wgt_dropna, 7.5)\n",
    "print(\"My percentile rank among later born infants:\", my_rank_others)"
   ]
  },
  {
   "cell_type": "markdown",
   "metadata": {},
   "source": [
    "## Exercise 4-2"
   ]
  },
  {
   "cell_type": "code",
   "execution_count": 103,
   "metadata": {},
   "outputs": [
    {
     "data": {
      "text/plain": [
       "Pmf({0.6329918959775218: 0.001, 0.8426056421061847: 0.001, 0.25690222057434486: 0.001, 0.6946000905779048: 0.001, 0.6415380950752502: 0.001, 0.42237773371059706: 0.001, 0.02920390908397652: 0.001, 0.7834493506521011: 0.001, 0.9780092630870626: 0.001, 0.4426082467819801: 0.001, 0.7723091940026346: 0.001, 0.3364757819910318: 0.001, 0.37288468532828634: 0.001, 0.3252683053808131: 0.001, 0.8400642568310307: 0.001, 0.9373245884934226: 0.001, 0.437921139045532: 0.001, 0.916184124824254: 0.001, 0.44133833833849223: 0.001, 0.264350328490487: 0.001, 0.19279336127666669: 0.001, 0.6359749478428562: 0.001, 0.5060957450100843: 0.001, 0.02016072223931531: 0.001, 0.8164489580609023: 0.001, 0.533333302746606: 0.001, 0.5275861739670962: 0.001, 0.38538912882809584: 0.001, 0.5615666820069156: 0.001, 0.2774971279485621: 0.001, 0.08606071555717065: 0.001, 0.39521391612147627: 0.001, 0.5869991190144654: 0.001, 0.1152115622120552: 0.001, 0.08727807336148319: 0.001, 0.24783770820357776: 0.001, 0.5375294900160853: 0.001, 0.5512413467282012: 0.001, 0.2526079036728689: 0.001, 0.3395988796673105: 0.001, 0.4547126423126443: 0.001, 0.2693216389564419: 0.001, 0.40145561265854857: 0.001, 0.12130827543278422: 0.001, 0.4119049220106812: 0.001, 0.0811887622042734: 0.001, 0.5820471282959243: 0.001, 0.3568424295782505: 0.001, 0.38188287322315206: 0.001, 0.5620750607002448: 0.001, 0.47053776563785654: 0.001, 0.7603085516145542: 0.001, 0.43981940934354213: 0.001, 0.11432566815969047: 0.001, 0.6107889192852026: 0.001, 0.6298538932519319: 0.001, 0.8411253584157059: 0.001, 0.8053413165070176: 0.001, 0.8206753633985431: 0.001, 0.7827787754074222: 0.001, 0.07952850816899981: 0.001, 0.6272570762962731: 0.001, 0.8643471632065879: 0.001, 0.25631009815790184: 0.001, 0.8555951435367475: 0.001, 0.7328976559516697: 0.001, 0.04847821839476518: 0.001, 0.6918780573807707: 0.001, 0.0026720122217332998: 0.001, 0.4802510058827476: 0.001, 0.38160650655679185: 0.001, 0.05927743323932688: 0.001, 0.13848237277044073: 0.001, 0.3255709518002936: 0.001, 0.6224632566547028: 0.001, 0.81661603886663: 0.001, 0.5764438250517766: 0.001, 0.21342453844886122: 0.001, 0.7678554058970415: 0.001, 0.03448889724254045: 0.001, 0.2861995694503747: 0.001, 0.4721532379281791: 0.001, 0.09277830472311122: 0.001, 0.7583279517160789: 0.001, 0.5903404349053104: 0.001, 0.1372387764042987: 0.001, 0.07818687047503237: 0.001, 0.9948952132511376: 0.001, 0.5694075142509273: 0.001, 0.8528480452786724: 0.001, 0.8001684860909731: 0.001, 0.3190846513550236: 0.001, 0.7709777976746919: 0.001, 0.37049887907896284: 0.001, 0.4064830514809824: 0.001, 0.8797492108992256: 0.001, 0.9253909684093264: 0.001, 0.38285446870613205: 0.001, 0.8113567700257245: 0.001, 0.34451635825456106: 0.001, 0.8378905630861191: 0.001, 0.8892283247776218: 0.001, 0.8130418638121124: 0.001, 0.6817856744192946: 0.001, 0.7014507978286608: 0.001, 0.04097073429541098: 0.001, 0.8006823149853763: 0.001, 0.005625203187302086: 0.001, 0.126916797715098: 0.001, 0.6293344869639568: 0.001, 0.8927524791001596: 0.001, 0.9179275750292978: 0.001, 0.2337642055436322: 0.001, 0.647518899819212: 0.001, 0.4710421451656498: 0.001, 0.39498540948379934: 0.001, 0.4289473807019468: 0.001, 0.681578075380661: 0.001, 0.1914145239669558: 0.001, 0.3046468461336588: 0.001, 0.5817337384825052: 0.001, 0.4279147376022623: 0.001, 0.09135085957855149: 0.001, 0.08862316819619043: 0.001, 0.23691703949574594: 0.001, 0.7900562439637854: 0.001, 0.7370169374801413: 0.001, 0.44380423644525935: 0.001, 0.41324302085044706: 0.001, 0.9367828105769945: 0.001, 0.7821235223858823: 0.001, 0.6349200127362066: 0.001, 0.3184108647023346: 0.001, 0.8927027769170305: 0.001, 0.9985819565015048: 0.001, 0.1902382036106154: 0.001, 0.2896556529036032: 0.001, 0.8691686911536045: 0.001, 0.16281552363057472: 0.001, 0.7296161878731579: 0.001, 0.6137748999966645: 0.001, 0.9177276091482998: 0.001, 0.299643910756619: 0.001, 0.36537080836532454: 0.001, 0.695772985930717: 0.001, 0.33066570712780974: 0.001, 0.7587019501993574: 0.001, 0.451240504525772: 0.001, 0.9846850243879821: 0.001, 0.8074980379852172: 0.001, 0.6519823341663159: 0.001, 0.44923368559484567: 0.001, 0.11909106273427417: 0.001, 0.2536862148214897: 0.001, 0.5375450195460105: 0.001, 0.8315282764643332: 0.001, 0.1027028411476213: 0.001, 0.9816410179753223: 0.001, 0.12649781516321612: 0.001, 0.14916284361473697: 0.001, 0.21107624793670188: 0.001, 0.31303632703146766: 0.001, 0.5758585739813153: 0.001, 0.1349125510078445: 0.001, 0.30317241190205035: 0.001, 0.9863315659171755: 0.001, 0.696304233664823: 0.001, 0.08345850180164693: 0.001, 0.05555768313871323: 0.001, 0.8278184390450511: 0.001, 0.5162562720413311: 0.001, 0.5743970346352635: 0.001, 0.4056894251791895: 0.001, 0.7359287870086698: 0.001, 0.5501791879586396: 0.001, 0.8364239006147083: 0.001, 0.33450375953314027: 0.001, 0.787677368959893: 0.001, 0.8781003325977902: 0.001, 0.034193298370147396: 0.001, 0.8539919709336955: 0.001, 0.702708775508486: 0.001, 0.34096019247877685: 0.001, 0.4163148875025583: 0.001, 0.16392738469356194: 0.001, 0.3681531003763483: 0.001, 0.5548801099614976: 0.001, 0.8477750569782457: 0.001, 0.2888459567659156: 0.001, 0.48404100977640374: 0.001, 0.6728707039406799: 0.001, 0.597123860706731: 0.001, 0.5535905774971551: 0.001, 0.26621488577758023: 0.001, 0.9068100080262146: 0.001, 0.205015436892227: 0.001, 0.24056542827366256: 0.001, 0.9680943274861884: 0.001, 0.5200154006345235: 0.001, 0.6054644228345658: 0.001, 0.2100847340127776: 0.001, 0.3469833464282044: 0.001, 0.7528573766682425: 0.001, 0.1885251219653682: 0.001, 0.7499944211188827: 0.001, 0.9846276684517707: 0.001, 0.4591623506980298: 0.001, 0.39196864296551637: 0.001, 0.9325732910402379: 0.001, 0.2283559671835711: 0.001, 0.8580517559530952: 0.001, 0.8466565364084639: 0.001, 0.24513107319445748: 0.001, 0.6827077817114391: 0.001, 0.0761003959844836: 0.001, 0.6529897659436684: 0.001, 0.9446005316605788: 0.001, 0.10429120732440877: 0.001, 0.3353859022498491: 0.001, 0.9178468918377196: 0.001, 0.22839672003109246: 0.001, 0.8980067082307264: 0.001, 0.18383045578128343: 0.001, 0.5560938030217398: 0.001, 0.5235291176374242: 0.001, 0.21325622726103255: 0.001, 0.9092463285960828: 0.001, 0.5451905584952864: 0.001, 0.0764695313109266: 0.001, 0.13992630696547792: 0.001, 0.5772991739546303: 0.001, 0.41437004252795884: 0.001, 0.2790499945536048: 0.001, 0.5296328993120043: 0.001, 0.9181518492197526: 0.001, 0.9679785863985707: 0.001, 0.7034031017273421: 0.001, 0.8208105023070669: 0.001, 0.3554751353659663: 0.001, 0.2036047424412799: 0.001, 0.3317353259484329: 0.001, 0.8053303488329528: 0.001, 0.04664416635479962: 0.001, 0.7908936440316883: 0.001, 0.3228756697484366: 0.001, 0.9278454688954169: 0.001, 0.05140564308607187: 0.001, 0.3056354111392764: 0.001, 0.8354359808046845: 0.001, 0.834150594809018: 0.001, 0.9925879364344716: 0.001, 0.183208567407669: 0.001, 0.4936885296809119: 0.001, 0.5840481689495923: 0.001, 0.7772561141960644: 0.001, 0.9388249979941746: 0.001, 0.04176481650362762: 0.001, 0.825111441700902: 0.001, 0.35520443437241833: 0.001, 0.9119905453231887: 0.001, 0.17051834466905158: 0.001, 0.9087748285001834: 0.001, 0.8301496251300229: 0.001, 0.39219805935821284: 0.001, 0.7566685660824136: 0.001, 0.38143997789363604: 0.001, 0.7536079643516059: 0.001, 0.8082243823865548: 0.001, 0.08427605824257567: 0.001, 0.8904891026980085: 0.001, 0.07635776792491: 0.001, 0.45547900018337784: 0.001, 0.18311106076273354: 0.001, 0.6632236304046228: 0.001, 0.8005689800211714: 0.001, 0.7441886812481825: 0.001, 0.9047904770387166: 0.001, 0.3967471626902864: 0.001, 0.361553300038291: 0.001, 0.6342297292470143: 0.001, 0.018945525772591232: 0.001, 0.21548513261147528: 0.001, 0.34543769677967995: 0.001, 0.8984370445738322: 0.001, 0.9343319117520102: 0.001, 0.22675535479806708: 0.001, 0.767518494717894: 0.001, 0.308098843535373: 0.001, 0.9279895434226755: 0.001, 0.3878532056102645: 0.001, 0.07057133790789272: 0.001, 0.9692263397378342: 0.001, 0.26218035288573893: 0.001, 0.8823405388434196: 0.001, 0.37011113875316437: 0.001, 0.7688402939382919: 0.001, 0.4568296981446469: 0.001, 0.8619356945870382: 0.001, 0.3495087117081531: 0.001, 0.21971403449313176: 0.001, 0.007759501428223792: 0.001, 0.2633013598343795: 0.001, 0.9873417313645657: 0.001, 0.4361623923949295: 0.001, 0.8509681100557865: 0.001, 0.05185400531949824: 0.001, 0.7422400259284965: 0.001, 0.1400374770081253: 0.001, 0.110401509605217: 0.001, 0.46754228975340295: 0.001, 0.020843976862988334: 0.001, 0.2526249503492689: 0.001, 0.5110955842356191: 0.001, 0.9775328833493339: 0.001, 0.17852224970066832: 0.001, 0.8810060827605173: 0.001, 0.7849394320648041: 0.001, 0.4115247259500051: 0.001, 0.819846717575098: 0.001, 0.5457122308238239: 0.001, 0.9941894221063344: 0.001, 0.8491241247532509: 0.001, 0.7428726839193297: 0.001, 0.19310655577366842: 0.001, 0.7826898002870281: 0.001, 0.7412690693080151: 0.001, 0.6141046182152258: 0.001, 0.1693506062715594: 0.001, 0.8953150126307898: 0.001, 0.8074639796534147: 0.001, 0.5743601849242226: 0.001, 0.03921062710050116: 0.001, 0.7461170478171704: 0.001, 0.018091627741241734: 0.001, 0.9813580717981468: 0.001, 0.12904367430029895: 0.001, 0.4549001267479975: 0.001, 0.5688517842528266: 0.001, 0.4144108997490371: 0.001, 0.12508269153614138: 0.001, 0.5570092537429059: 0.001, 0.553103290840172: 0.001, 0.2607796627026202: 0.001, 0.2045220905263455: 0.001, 0.4280865859580446: 0.001, 0.340527144045388: 0.001, 0.45672007268597925: 0.001, 0.08878355743159527: 0.001, 0.5813797898162303: 0.001, 0.5848388757627956: 0.001, 0.4351565821107891: 0.001, 0.5999124287021557: 0.001, 0.3508463194209933: 0.001, 0.9137928383618587: 0.001, 0.6467860183577029: 0.001, 0.7810627323216202: 0.001, 0.45130225226257037: 0.001, 0.5121836797033918: 0.001, 0.5699872288671993: 0.001, 0.33671803923207677: 0.001, 0.7277462572838505: 0.001, 0.053153559401172834: 0.001, 0.6964413259250963: 0.001, 0.5907669299866253: 0.001, 0.21964906560614783: 0.001, 0.0463801700036548: 0.001, 0.3777991562740205: 0.001, 0.10636460848563634: 0.001, 0.3719491780368086: 0.001, 0.8411993286505801: 0.001, 0.39658273244134135: 0.001, 0.08246339403888259: 0.001, 0.6331681645041661: 0.001, 0.7091507372519812: 0.001, 0.4370286223628619: 0.001, 0.3021205211778881: 0.001, 0.7015992016689852: 0.001, 0.6173952033339515: 0.001, 0.6960922026540771: 0.001, 0.8193293839810928: 0.001, 0.7845869093046144: 0.001, 0.8724164565284611: 0.001, 0.2572834248023774: 0.001, 0.021213830662874966: 0.001, 0.1080689789146384: 0.001, 0.6137864999511677: 0.001, 0.5134206896205518: 0.001, 0.44937733802451485: 0.001, 0.9314013735979033: 0.001, 0.867197227852463: 0.001, 0.1185542368506799: 0.001, 0.17134464865709276: 0.001, 0.9715083601635468: 0.001, 0.9403439516898247: 0.001, 0.7493612852202476: 0.001, 0.6360355317964667: 0.001, 0.2320342959853926: 0.001, 0.9389592129059281: 0.001, 0.7933898188305156: 0.001, 0.6426083106867578: 0.001, 0.8761536768648879: 0.001, 0.06443883159948549: 0.001, 0.1403939238127081: 0.001, 0.9580635461394994: 0.001, 0.24450469593689073: 0.001, 0.6560800960415131: 0.001, 0.0009771786667879256: 0.001, 0.6184726745939578: 0.001, 0.22992131328171306: 0.001, 0.6900119119715442: 0.001, 0.5953626608145864: 0.001, 0.07603141017013826: 0.001, 0.7236190684322527: 0.001, 0.9681626932560569: 0.001, 0.8037036982810016: 0.001, 0.5352013563824701: 0.001, 0.8067837931032441: 0.001, 0.1880838629022833: 0.001, 0.002494849251701403: 0.001, 0.7609559905287976: 0.001, 0.5654868659302947: 0.001, 0.6187843847095437: 0.001, 0.4105726534807207: 0.001, 0.19576440647755888: 0.001, 0.17009817051129283: 0.001, 0.27229674860946684: 0.001, 0.9289276358235038: 0.001, 0.20450165791331854: 0.001, 0.3881468172050747: 0.001, 0.8073768766623454: 0.001, 0.24902685245048484: 0.001, 0.9070314369676415: 0.001, 0.5614235161119634: 0.001, 0.14497878707280443: 0.001, 0.5226109484092082: 0.001, 0.3230480071974835: 0.001, 0.6868813008909421: 0.001, 0.9428733734560713: 0.001, 0.14929169184178803: 0.001, 0.6875581391537425: 0.001, 0.23420518498732346: 0.001, 0.9694456023714333: 0.001, 0.2609854601639622: 0.001, 0.7239893812624818: 0.001, 0.21505136555067095: 0.001, 0.2400715823576005: 0.001, 0.6765934755372428: 0.001, 0.12992999100008473: 0.001, 0.5159472467917869: 0.001, 0.3352400313639291: 0.001, 0.4895723984426996: 0.001, 0.02870819290585991: 0.001, 0.4346663121063217: 0.001, 0.08896889340271263: 0.001, 0.9103282525394478: 0.001, 0.3308515194962389: 0.001, 0.5350671375288113: 0.001, 0.6123342565824513: 0.001, 0.00018699831995017124: 0.001, 0.9219188363249071: 0.001, 0.6932524675223108: 0.001, 0.19095003202882221: 0.001, 0.4274727086304223: 0.001, 0.7334662124141346: 0.001, 0.25318805029710234: 0.001, 0.0349735263315053: 0.001, 0.37900920813078565: 0.001, 0.1618286271581315: 0.001, 0.3151111529526466: 0.001, 0.09911657796864504: 0.001, 0.7675909401305677: 0.001, 0.8250459807373105: 0.001, 0.9628603212079871: 0.001, 0.04391638647124396: 0.001, 0.40829861631276976: 0.001, 0.06084267105093355: 0.001, 0.9470685420416883: 0.001, 0.9584338618362028: 0.001, 0.16538626566982495: 0.001, 0.13041611394284902: 0.001, 0.767457136541947: 0.001, 0.5746612476292723: 0.001, 0.4971452848914759: 0.001, 0.020390218432670637: 0.001, 0.7253177640920991: 0.001, 0.889770742611283: 0.001, 0.3927221648660101: 0.001, 0.6678172820759526: 0.001, 0.7461806699086267: 0.001, 0.8960481511981663: 0.001, 0.6770701192738153: 0.001, 0.6278275402786566: 0.001, 0.2209553300260887: 0.001, 0.5051867916190194: 0.001, 0.9617152035780879: 0.001, 0.24970993127881946: 0.001, 0.2738487362612956: 0.001, 0.14044165264785824: 0.001, 0.1444975531282695: 0.001, 0.37760993988011815: 0.001, 0.30314841917189084: 0.001, 0.37659300273843: 0.001, 0.11783288562586691: 0.001, 0.525972550267833: 0.001, 0.33767043022319754: 0.001, 0.33221015797858655: 0.001, 0.09203674674722562: 0.001, 0.6226727870648083: 0.001, 0.11267678585106677: 0.001, 0.09039089077008511: 0.001, 0.7608873403793434: 0.001, 0.7704175091803258: 0.001, 0.8212450662590285: 0.001, 0.0523434954209292: 0.001, 0.02748065235578756: 0.001, 0.45008347080981836: 0.001, 0.10552950936619632: 0.001, 0.22926868409123846: 0.001, 0.13816623179237864: 0.001, 0.7393182608460174: 0.001, 0.38824333691996515: 0.001, 0.6537464772370898: 0.001, 0.9365456125122017: 0.001, 0.018391464798169777: 0.001, 0.05685639790195263: 0.001, 0.13862263811568365: 0.001, 0.9597827248254845: 0.001, 0.19204251329272115: 0.001, 0.8631625862913437: 0.001, 0.4636351352378082: 0.001, 0.02221236392050896: 0.001, 0.7251519966731357: 0.001, 0.9802903813226327: 0.001, 0.25073822095367126: 0.001, 0.2685332855851903: 0.001, 0.20647338363646028: 0.001, 0.787169689356086: 0.001, 0.7554170370979661: 0.001, 0.6975857367010249: 0.001, 0.48739843233959956: 0.001, 0.8497995408760877: 0.001, 0.826576860114672: 0.001, 0.7692308524757511: 0.001, 0.24551865201539824: 0.001, 0.5957102745232801: 0.001, 0.4367541227117009: 0.001, 0.39894956464320785: 0.001, 0.3307363036636939: 0.001, 0.011131850657025044: 0.001, 0.1493336625423073: 0.001, 0.5501016934874925: 0.001, 0.5623932675056917: 0.001, 0.19001546301936068: 0.001, 0.9814105440996295: 0.001, 0.5286762043580172: 0.001, 0.8576938751924835: 0.001, 0.5470270458314523: 0.001, 0.10150616027020287: 0.001, 0.671940756789663: 0.001, 0.2844098193793958: 0.001, 0.0506869992625647: 0.001, 0.9017081953640377: 0.001, 0.7279359567936785: 0.001, 0.10108495067281742: 0.001, 0.38360439107813815: 0.001, 0.7653596231376227: 0.001, 0.5414511643828686: 0.001, 0.8428533480522876: 0.001, 0.6545284448740384: 0.001, 0.6146895876420134: 0.001, 0.9044152053462683: 0.001, 0.3294785605366374: 0.001, 0.09610875487112525: 0.001, 0.4988331419556832: 0.001, 0.5617905592586645: 0.001, 0.37654568104549857: 0.001, 0.39127049681682435: 0.001, 0.4028025423702617: 0.001, 0.1312566861558917: 0.001, 0.3601805135686018: 0.001, 0.19449482397349604: 0.001, 0.42768995342919736: 0.001, 0.03219486483367073: 0.001, 0.2837422740983473: 0.001, 0.4149375098301943: 0.001, 0.5565049705975907: 0.001, 0.422708318249884: 0.001, 0.4572852489270198: 0.001, 0.10832001650699064: 0.001, 0.10301274196258736: 0.001, 0.491330013236163: 0.001, 0.34272487252294126: 0.001, 0.027192545522376155: 0.001, 0.8970064811220803: 0.001, 0.8857608884876895: 0.001, 0.31835826433081316: 0.001, 0.230850433648506: 0.001, 0.06923743389512049: 0.001, 0.8836837111252546: 0.001, 0.2515849237497635: 0.001, 0.4532593684838563: 0.001, 0.5522089121139053: 0.001, 0.9978456305360232: 0.001, 0.5886264234905532: 0.001, 0.1131854466337503: 0.001, 0.7766496647437005: 0.001, 0.8911539119182303: 0.001, 0.35382807269436656: 0.001, 0.2950959095326472: 0.001, 0.6908731847193927: 0.001, 0.5950751934073941: 0.001, 0.5541174777062658: 0.001, 0.40725122749128484: 0.001, 0.09268585240317728: 0.001, 0.5875299727623366: 0.001, 0.9305771710694737: 0.001, 0.7595952065229391: 0.001, 0.6530617863861589: 0.001, 0.9582586961595563: 0.001, 0.8562657535079702: 0.001, 0.8096507101811278: 0.001, 0.823195231329529: 0.001, 0.06182673502772229: 0.001, 0.07440478819065377: 0.001, 0.9878383675062451: 0.001, 0.1349818097611789: 0.001, 0.9336611447446184: 0.001, 0.6454907514495181: 0.001, 0.7963427104455092: 0.001, 0.2277514108045391: 0.001, 0.09521124156252547: 0.001, 0.37408809556778144: 0.001, 0.0981030924305063: 0.001, 0.4645005963165554: 0.001, 0.9959134163994657: 0.001, 0.408994184787858: 0.001, 0.39018693328242715: 0.001, 0.14547063235772595: 0.001, 0.8060810395080787: 0.001, 0.7058856533971046: 0.001, 0.8635447043272582: 0.001, 0.7839273025640946: 0.001, 0.09309431695733228: 0.001, 0.5048991501061845: 0.001, 0.2752843421356249: 0.001, 0.2114385884886485: 0.001, 0.8810815712362989: 0.001, 0.26478409336263353: 0.001, 0.026346642730703418: 0.001, 0.29279936751890656: 0.001, 0.45318899940947044: 0.001, 0.2456722320875474: 0.001, 0.22575758004961866: 0.001, 0.018879733583210156: 0.001, 0.3597570346913126: 0.001, 0.9284447805328205: 0.001, 0.17571349208604492: 0.001, 0.9106555823457609: 0.001, 0.3496634516693655: 0.001, 0.4145466408542039: 0.001, 0.2552193665962509: 0.001, 0.2482996265366313: 0.001, 0.43778566502789285: 0.001, 0.9603566233687395: 0.001, 0.22700120901453058: 0.001, 0.7820912935611026: 0.001, 0.0005330924558462069: 0.001, 0.014113429645089326: 0.001, 0.5799582959722067: 0.001, 0.21729648290015613: 0.001, 0.632016911230606: 0.001, 0.846823487573533: 0.001, 0.9110980022053418: 0.001, 0.6282300135859624: 0.001, 0.457167304580106: 0.001, 0.7273606843105968: 0.001, 0.04561248547107721: 0.001, 0.8037000053569415: 0.001, 0.7554444868129883: 0.001, 0.6469279483742996: 0.001, 0.11557502363588301: 0.001, 0.7446665365068169: 0.001, 0.7610981173062249: 0.001, 0.18052277067760858: 0.001, 0.40237646797901616: 0.001, 0.8316931832945573: 0.001, 0.8664433888257338: 0.001, 0.008705980586217188: 0.001, 0.742396821990411: 0.001, 0.6841500998010052: 0.001, 0.740586787852154: 0.001, 0.4743002070395701: 0.001, 0.4753065169455045: 0.001, 0.5759578005250489: 0.001, 0.9868327573583199: 0.001, 0.8865859931006805: 0.001, 0.02148472371645671: 0.001, 0.04908942863198118: 0.001, 0.3171406153400075: 0.001, 0.29466283958006556: 0.001, 0.8613361731061131: 0.001, 0.6045224663834329: 0.001, 0.20717866386399963: 0.001, 0.6657007733321227: 0.001, 0.279473766293028: 0.001, 0.5715237200123846: 0.001, 0.6833531352922435: 0.001, 0.2477461118699199: 0.001, 0.48320169213029596: 0.001, 0.8067798333877373: 0.001, 0.28641616564843586: 0.001, 0.7636239408726132: 0.001, 0.3331089979705718: 0.001, 0.565562649563273: 0.001, 0.9994313405943198: 0.001, 0.3147616179533863: 0.001, 0.08938246855660104: 0.001, 0.0858384945996089: 0.001, 0.7860924720792554: 0.001, 0.9215583593052131: 0.001, 0.6034711363180425: 0.001, 0.4637354364586803: 0.001, 0.9927117902184439: 0.001, 0.09716878888262392: 0.001, 0.7697312963455533: 0.001, 0.4638670829907854: 0.001, 0.814363197865285: 0.001, 0.8643002553129764: 0.001, 0.4281752281974761: 0.001, 0.9073837988952282: 0.001, 0.6963435715646976: 0.001, 0.5753833686568687: 0.001, 0.21861218401632465: 0.001, 0.1302904831570556: 0.001, 0.8869586078178983: 0.001, 0.3625000992026739: 0.001, 0.8603670934469793: 0.001, 0.32218491263848437: 0.001, 0.8606100253891035: 0.001, 0.03453356612006464: 0.001, 0.6772177006381119: 0.001, 0.07175624443381212: 0.001, 0.9618432204089836: 0.001, 0.7960990088209376: 0.001, 0.9660887363790934: 0.001, 0.08623700494344155: 0.001, 0.5926384060738716: 0.001, 0.6550890164158601: 0.001, 0.6812169810163131: 0.001, 0.4783100410653832: 0.001, 0.9503248672927033: 0.001, 0.9886712735098142: 0.001, 0.4523336220255656: 0.001, 0.8329177103946889: 0.001, 0.7422530432464512: 0.001, 0.11959165583172682: 0.001, 0.24536694908019363: 0.001, 0.49090524122037005: 0.001, 0.08939172490295166: 0.001, 0.4945836255464472: 0.001, 0.3623967435194946: 0.001, 0.061372479438778216: 0.001, 0.4169600926196926: 0.001, 0.23064106650898475: 0.001, 0.6728988003890916: 0.001, 0.9543912975112946: 0.001, 0.8217118779413967: 0.001, 0.5265919682717789: 0.001, 0.06916864572631831: 0.001, 0.7494513106115663: 0.001, 0.5683510170526994: 0.001, 0.22695658374503458: 0.001, 0.15455377216405308: 0.001, 0.055290714966344745: 0.001, 0.48607360097287067: 0.001, 0.6396037224298249: 0.001, 0.5149496676158377: 0.001, 0.8780154891348029: 0.001, 0.8017100077435626: 0.001, 0.3739769545294275: 0.001, 0.12743324515824972: 0.001, 0.08599312536549097: 0.001, 0.8132651920813863: 0.001, 0.3970457409594681: 0.001, 0.9512965990001662: 0.001, 0.3148635027240807: 0.001, 0.5975234254008545: 0.001, 0.2755203177245896: 0.001, 0.2722006098731853: 0.001, 0.5395795528999437: 0.001, 0.6114522221749558: 0.001, 0.5642217835855137: 0.001, 0.7332870762967526: 0.001, 0.5388465883697557: 0.001, 0.8709987874821856: 0.001, 0.17894519027248468: 0.001, 0.8768143606815841: 0.001, 0.918299833265441: 0.001, 0.819602284022382: 0.001, 0.3326110880172398: 0.001, 0.07386883500407848: 0.001, 0.024702390927635376: 0.001, 0.9582485300760658: 0.001, 0.920713519311885: 0.001, 0.2794440690582898: 0.001, 0.8211283335434646: 0.001, 0.896802808515239: 0.001, 0.31343419031219966: 0.001, 0.35491568688815744: 0.001, 0.2986262655744806: 0.001, 0.2577208593114779: 0.001, 0.1500915065504339: 0.001, 0.2862690970518855: 0.001, 0.6908058061474739: 0.001, 0.6646125096949413: 0.001, 0.7183491423280058: 0.001, 0.13744611976998822: 0.001, 0.014673823908409211: 0.001, 0.7085581299955919: 0.001, 0.36846431411508507: 0.001, 0.5151287729592369: 0.001, 0.07390098087641861: 0.001, 0.5033111168222987: 0.001, 0.8215521351989297: 0.001, 0.23253156516889817: 0.001, 0.6753934813362417: 0.001, 0.34254248966297696: 0.001, 0.19622682487763798: 0.001, 0.25758110698225845: 0.001, 0.56471954686807: 0.001, 0.8995584369518923: 0.001, 0.4312169112030533: 0.001, 0.6854231057995968: 0.001, 0.427602364301489: 0.001, 0.22353738758831265: 0.001, 0.260323582015065: 0.001, 0.32637931475287907: 0.001, 0.713113685614047: 0.001, 0.9904325978626451: 0.001, 0.3523642780946741: 0.001, 0.12589958050103667: 0.001, 0.8681589437344492: 0.001, 0.39772302291007955: 0.001, 0.9983420057576717: 0.001, 0.08236761201382803: 0.001, 0.6373485034482917: 0.001, 0.4085822384955088: 0.001, 0.7797058213870861: 0.001, 0.22597408817970288: 0.001, 0.7151429610008503: 0.001, 0.6501227054241139: 0.001, 0.8122453084950932: 0.001, 0.6297587480844073: 0.001, 0.9699674315161679: 0.001, 0.9502247825754914: 0.001, 0.11765052309804458: 0.001, 0.6740244597785784: 0.001, 0.7592471440879914: 0.001, 0.11804428051352389: 0.001, 0.5222571138180696: 0.001, 0.19013560242868877: 0.001, 0.6643667551523041: 0.001, 0.14481111201794594: 0.001, 0.8936136013545416: 0.001, 0.39788503047513624: 0.001, 0.7294025450656865: 0.001, 0.7920175890512338: 0.001, 0.3360411008498909: 0.001, 0.0675173083025693: 0.001, 0.8008580770766366: 0.001, 0.84852396936143: 0.001, 0.10696500435337475: 0.001, 0.6180769572913262: 0.001, 0.10611196858827199: 0.001, 0.8736248692796914: 0.001, 0.3508830302673238: 0.001, 0.08316037867424553: 0.001, 0.24641654317589978: 0.001, 0.25111418706219846: 0.001, 0.5696913943158076: 0.001, 0.5135132310638656: 0.001, 0.0933484179034888: 0.001, 0.9895144287635368: 0.001, 0.6892988025454436: 0.001, 0.7279088968746433: 0.001, 0.7266288730694653: 0.001, 0.46230159900220835: 0.001, 0.0004518297145398309: 0.001, 0.8570392934357365: 0.001, 0.6409281090728913: 0.001, 0.633072226852221: 0.001, 0.6436902759738464: 0.001, 0.6153021026020474: 0.001, 0.192408213178474: 0.001, 0.4954522236807152: 0.001, 0.9847639456587154: 0.001, 0.01854299411765703: 0.001, 0.3115216120299049: 0.001, 0.8751554052992715: 0.001, 0.6744255603448167: 0.001, 0.8433415437477368: 0.001, 0.43945806534643617: 0.001, 0.17005247690898118: 0.001, 0.2663759838409555: 0.001, 0.43216595724469753: 0.001, 0.26027391706243597: 0.001, 0.13344964053219366: 0.001, 0.7655165804947088: 0.001, 0.5636076685670757: 0.001, 0.3115680945929159: 0.001, 0.5089753505080343: 0.001, 0.9791508919343499: 0.001, 0.651680086767739: 0.001, 0.561230375837276: 0.001, 0.01128085275156343: 0.001, 0.2517626632751141: 0.001, 0.5492269956524195: 0.001, 0.22546541597310066: 0.001, 0.05814895629278194: 0.001, 0.5724777559967432: 0.001, 0.5077136923278713: 0.001, 0.16714418681023013: 0.001, 0.0909330722294095: 0.001, 0.7613425042148544: 0.001, 0.43691596634471486: 0.001, 0.9139302107438686: 0.001, 0.4434547492270172: 0.001, 0.5324481553608088: 0.001, 0.3486343377791755: 0.001, 0.6621755449189537: 0.001, 0.971547402566768: 0.001, 0.24897857206099316: 0.001, 0.8206605560421942: 0.001, 0.40858940979400904: 0.001, 0.18068411077714253: 0.001, 0.8632608919187194: 0.001, 0.42135271608617175: 0.001, 0.9554565050010154: 0.001, 0.5432834959933529: 0.001, 0.9468608965430712: 0.001, 0.13263584962910058: 0.001, 0.023628987294897374: 0.001, 0.6326629277969259: 0.001, 0.7985026208960005: 0.001, 0.7777242488004521: 0.001, 0.49267994128232484: 0.001, 0.19107236127238325: 0.001, 0.006080533150016665: 0.001, 0.7031679025315992: 0.001, 0.21883103067055287: 0.001, 0.1538723009341837: 0.001, 0.23058518488278568: 0.001, 0.98843960547168: 0.001, 0.9205132810435912: 0.001, 0.19809376671834678: 0.001, 0.7203859573240776: 0.001, 0.5488547301254947: 0.001, 0.40315059502186523: 0.001, 0.4698370662930128: 0.001, 0.4276113754245231: 0.001, 0.7471101300881919: 0.001, 0.28574300277675657: 0.001, 0.38059252816539724: 0.001, 0.7581381005074533: 0.001, 0.9913754912158492: 0.001, 0.2948205453613404: 0.001, 0.8532470502707583: 0.001, 0.24277933083081116: 0.001, 0.7734194569546015: 0.001, 0.23467301095578263: 0.001, 0.972801917958454: 0.001, 0.8667681247485713: 0.001, 0.9412657575209902: 0.001, 0.3710573712644405: 0.001, 0.5247157807097483: 0.001, 0.7228502952381082: 0.001, 0.002742954877543502: 0.001, 0.4927932005750669: 0.001, 0.495861871390351: 0.001, 0.6734351701832493: 0.001, 0.8817495741045667: 0.001, 0.8517137693207936: 0.001, 0.3756998893688096: 0.001, 0.12934761756199875: 0.001, 0.9322624742654958: 0.001, 0.13406901227844192: 0.001, 0.5423213587062685: 0.001, 0.6359674410313597: 0.001, 0.6876124787132158: 0.001, 0.12420546749616612: 0.001, 0.5282984491543944: 0.001, 0.35942278302743846: 0.001, 0.9360429642450405: 0.001, 0.5433307324739809: 0.001, 0.5393125634245983: 0.001, 0.9857199426700808: 0.001, 0.4676365943004659: 0.001, 0.32184995208314193: 0.001, 0.21146243871884218: 0.001, 0.7475308822153399: 0.001}, 'random_1000')"
      ]
     },
     "execution_count": 103,
     "metadata": {},
     "output_type": "execute_result"
    }
   ],
   "source": [
    "pmf = thinkstats2.Pmf(np.random.random(1000), label = \"random_1000\")\n",
    "pmf"
   ]
  },
  {
   "cell_type": "code",
   "execution_count": 117,
   "metadata": {},
   "outputs": [
    {
     "data": {
      "image/png": "[encoded data removed]",
      "text/plain": [
       "<Figure size 432x288 with 1 Axes>"
      ]
     },
     "metadata": {
      "needs_background": "light"
     },
     "output_type": "display_data"
    }
   ],
   "source": [
    "thinkplot.Pmf(pmf, linewidth = 0.2)\n",
    "thinkplot.Config(xlabel = \"Random value\", ylabel = \"PMF\")"
   ]
  },
  {
   "cell_type": "code",
   "execution_count": 105,
   "metadata": {},
   "outputs": [
    {
     "data": {
      "text/plain": [
       "Cdf([0.00102489 0.00143387 0.00442999 0.00449352 0.00534416 0.00585194\n",
       " 0.00621631 0.00790766 0.0082145  0.00858362 0.01073134 0.011955\n",
       " 0.01290327 0.01352918 0.01520519 0.01580146 0.01606555 0.01720684\n",
       " 0.01980474 0.02176139 0.02277921 0.02543047 0.02643032 0.02663079\n",
       " 0.0274288  0.03021684 0.03040192 0.03078869 0.030798   0.03104371\n",
       " 0.03261525 0.03344713 0.03629685 0.03668872 0.03717465 0.03959759\n",
       " 0.04069431 0.04071995 0.04096465 0.04111077 0.04203863 0.04256995\n",
       " 0.04369263 0.04395639 0.04489905 0.04570766 0.04575888 0.04590339\n",
       " 0.04621328 0.04718908 0.049722   0.05025059 0.05245117 0.0528316\n",
       " 0.05309055 0.05364954 0.05404221 0.05527659 0.05822609 0.05862451\n",
       " 0.05894531 0.06073783 0.06256062 0.06646139 0.06890543 0.06906748\n",
       " 0.06939591 0.07136485 0.07190356 0.07390156 0.07443051 0.07495544\n",
       " 0.07816998 0.08140792 0.0817196  0.08211975 0.08313791 0.08342773\n",
       " 0.08498957 0.08538581 0.08696773 0.0872575  0.09004588 0.09234745\n",
       " 0.0932317  0.09337733 0.09444589 0.09463196 0.09487251 0.09606615\n",
       " 0.0975435  0.09800227 0.09913847 0.10004679 0.10091812 0.10336332\n",
       " 0.10339759 0.10528119 0.10583106 0.10954206 0.11039901 0.11046736\n",
       " 0.11151642 0.11169312 0.1117083  0.11228109 0.11446853 0.1148517\n",
       " 0.11657402 0.11657763 0.11719509 0.11788579 0.11796115 0.11814197\n",
       " 0.12013548 0.12064016 0.12111356 0.12169825 0.12343004 0.12393459\n",
       " 0.12395368 0.124612   0.1256835  0.12701545 0.12742017 0.13011374\n",
       " 0.13077481 0.13162984 0.13176571 0.13357965 0.1367964  0.13712402\n",
       " 0.1372524  0.1377491  0.13823084 0.13866314 0.13921982 0.13996919\n",
       " 0.14094051 0.1436032  0.1447019  0.14541962 0.14689124 0.14705617\n",
       " 0.14884203 0.14884493 0.14920397 0.15261869 0.15406995 0.15444157\n",
       " 0.15587831 0.1567522  0.15766591 0.15847712 0.15965924 0.1600939\n",
       " 0.16090536 0.1614107  0.16236876 0.16245457 0.16265503 0.16294593\n",
       " 0.16348679 0.16388935 0.16497428 0.1715362  0.17430203 0.17445913\n",
       " 0.17547608 0.17567453 0.17862904 0.17913462 0.17921684 0.17987662\n",
       " 0.18124622 0.18171081 0.1823258  0.18368242 0.18443112 0.18447582\n",
       " 0.18539026 0.18575202 0.18609434 0.18911794 0.19037247 0.19051252\n",
       " 0.19058724 0.19114157 0.1958192  0.19645718 0.19647262 0.19674171\n",
       " 0.19742764 0.19840075 0.19888542 0.19892123 0.2006002  0.20071058\n",
       " 0.20201716 0.20218647 0.20260898 0.20426537 0.20501263 0.20553701\n",
       " 0.20624849 0.20638792 0.20861537 0.20944813 0.21006805 0.21011595\n",
       " 0.21075534 0.2114225  0.21515084 0.21555546 0.21560477 0.21647617\n",
       " 0.21757034 0.21870222 0.21906454 0.21922375 0.21973745 0.22056776\n",
       " 0.22160537 0.22288793 0.22423962 0.22576802 0.22589636 0.22604932\n",
       " 0.22643231 0.22874369 0.22879744 0.22882038 0.22896779 0.22984866\n",
       " 0.23092968 0.23325727 0.23374785 0.23711152 0.23811961 0.23831509\n",
       " 0.23919892 0.2397842  0.24225587 0.24463459 0.2478132  0.24795493\n",
       " 0.24840424 0.24909686 0.24919385 0.25141472 0.25256594 0.2540436\n",
       " 0.25441002 0.25455652 0.25599392 0.25643603 0.25834163 0.25895928\n",
       " 0.26088194 0.26277615 0.26326059 0.26431114 0.26481345 0.26484207\n",
       " 0.26813669 0.26815184 0.26855892 0.27089892 0.27164966 0.27186326\n",
       " 0.27268717 0.27276322 0.27446751 0.27459622 0.27489608 0.27632957\n",
       " 0.27703621 0.27847017 0.280526   0.28148773 0.28174019 0.2820636\n",
       " 0.28320033 0.28320309 0.28328089 0.28350257 0.28350827 0.28398798\n",
       " 0.284352   0.28749202 0.28864554 0.28957132 0.29305289 0.29314345\n",
       " 0.29334119 0.29454011 0.29670605 0.29731813 0.29886759 0.30044687\n",
       " 0.30098282 0.30318641 0.30455963 0.30726249 0.30846636 0.31131339\n",
       " 0.31466576 0.31497067 0.31562265 0.31596116 0.31665482 0.3181489\n",
       " 0.3188671  0.32291733 0.32297645 0.32433651 0.32447693 0.32470444\n",
       " 0.32520395 0.32575157 0.32681245 0.32743962 0.3310464  0.33143149\n",
       " 0.33209225 0.33264354 0.33307661 0.33399205 0.33491158 0.33534938\n",
       " 0.33580892 0.33593989 0.33639795 0.33640771 0.33654165 0.3375128\n",
       " 0.33903652 0.33919392 0.33935429 0.3397338  0.34076858 0.3419976\n",
       " 0.34228604 0.34594034 0.34631427 0.34652729 0.34683222 0.34715809\n",
       " 0.34753583 0.34943666 0.34957696 0.35060371 0.35081815 0.35127163\n",
       " 0.35202589 0.35413747 0.35579093 0.35934152 0.36097989 0.36218825\n",
       " 0.3628796  0.36392941 0.36417617 0.36452223 0.36620671 0.36624843\n",
       " 0.36641129 0.36909842 0.36988502 0.37001308 0.37170035 0.37197091\n",
       " 0.37214495 0.37217934 0.37502971 0.37552691 0.37660806 0.37721765\n",
       " 0.37723413 0.37779557 0.37885637 0.37939369 0.38485722 0.38572984\n",
       " 0.38801336 0.38817501 0.38944254 0.39033021 0.39068704 0.39093192\n",
       " 0.39442505 0.3949223  0.39633094 0.39964276 0.39974829 0.40040629\n",
       " 0.40551535 0.40921502 0.41092716 0.41246981 0.41266029 0.41284649\n",
       " 0.41450766 0.41463961 0.41534395 0.41643823 0.42329962 0.42422358\n",
       " 0.42765058 0.42991241 0.43005158 0.43150418 0.4333779  0.43584715\n",
       " 0.4371308  0.43948897 0.43960157 0.43969493 0.43998026 0.44059832\n",
       " 0.44166052 0.44296288 0.44297195 0.44349758 0.4440012  0.44466818\n",
       " 0.44521483 0.44573208 0.44703548 0.44855102 0.44948813 0.44989578\n",
       " 0.45038794 0.45264278 0.45598181 0.45659881 0.45748145 0.45810575\n",
       " 0.45831437 0.45843788 0.45880125 0.45929474 0.46014409 0.46277645\n",
       " 0.46340367 0.46585505 0.46588294 0.46605155 0.46627621 0.46914355\n",
       " 0.46922665 0.47092925 0.47140562 0.4730526  0.47340521 0.473539\n",
       " 0.47594054 0.47636772 0.47716981 0.48044719 0.4810212  0.48111336\n",
       " 0.48467636 0.48586086 0.48624291 0.48796134 0.488337   0.48891977\n",
       " 0.48985423 0.49023776 0.49036621 0.49210808 0.49272025 0.49311204\n",
       " 0.49476369 0.49527913 0.49528946 0.49621004 0.49813977 0.49830807\n",
       " 0.49877279 0.49992526 0.50199816 0.50265864 0.50307964 0.50422796\n",
       " 0.50548632 0.50700639 0.50746483 0.5086032  0.50947383 0.50966494\n",
       " 0.50983645 0.51059351 0.51198757 0.51331587 0.51453891 0.51484395\n",
       " 0.51493709 0.51680272 0.51711514 0.51719547 0.51840112 0.51844931\n",
       " 0.51849703 0.51849964 0.51936022 0.52126302 0.52428556 0.52469171\n",
       " 0.5265045  0.52661507 0.52732399 0.52755616 0.52977959 0.52999571\n",
       " 0.53057315 0.5306933  0.5316132  0.5329591  0.53307175 0.53465024\n",
       " 0.53474453 0.53574562 0.53587388 0.53745156 0.53920212 0.54167686\n",
       " 0.5447336  0.54588018 0.54611177 0.54688392 0.54737662 0.54790627\n",
       " 0.5482775  0.54894631 0.54913976 0.55032085 0.55034858 0.55249465\n",
       " 0.55276296 0.55376644 0.55392534 0.55463265 0.55478049 0.55659703\n",
       " 0.55674089 0.55750231 0.56127493 0.56202499 0.56422184 0.56461746\n",
       " 0.56541969 0.5654937  0.56795617 0.56846461 0.56848895 0.56940089\n",
       " 0.56974942 0.57014505 0.57029406 0.5707137  0.57149687 0.57188885\n",
       " 0.57312531 0.57361196 0.57373879 0.57452454 0.57651787 0.57771721\n",
       " 0.57950288 0.58096013 0.58522834 0.58558843 0.58607327 0.5861619\n",
       " 0.58634902 0.58904811 0.59029769 0.59082757 0.59168027 0.59195456\n",
       " 0.59226071 0.59379049 0.59380006 0.59437742 0.5944627  0.59531079\n",
       " 0.59634804 0.59639377 0.5972938  0.59785818 0.59869907 0.59875595\n",
       " 0.60026873 0.60361045 0.60361751 0.60482899 0.60614102 0.60802026\n",
       " 0.6083594  0.60853508 0.61006218 0.61203282 0.61267566 0.61402872\n",
       " 0.61562674 0.61783928 0.61925271 0.62118714 0.62120294 0.62136384\n",
       " 0.62230486 0.62294635 0.62778053 0.6299341  0.63233775 0.63286314\n",
       " 0.63292468 0.63312623 0.63513664 0.63717859 0.63726848 0.63785642\n",
       " 0.64014456 0.6411227  0.64157312 0.64238445 0.64414268 0.64601298\n",
       " 0.64635275 0.64670735 0.64671982 0.64831431 0.64843902 0.64948081\n",
       " 0.65021436 0.65280015 0.65340283 0.65385993 0.65487139 0.65514834\n",
       " 0.6553211  0.6566436  0.65725973 0.65737802 0.65779961 0.65843067\n",
       " 0.65996463 0.6647073  0.66473079 0.66678481 0.66835866 0.67240726\n",
       " 0.67411605 0.67467756 0.67468235 0.67475515 0.67554776 0.67687159\n",
       " 0.6772154  0.67861733 0.67899411 0.68061118 0.6814239  0.68170616\n",
       " 0.68464412 0.68508532 0.6863497  0.68673774 0.68707005 0.68819322\n",
       " 0.68932489 0.68980431 0.68984666 0.69085487 0.692016   0.6921049\n",
       " 0.69236726 0.69298556 0.69337112 0.69408075 0.69436603 0.69494021\n",
       " 0.69529423 0.69602664 0.69762619 0.69915174 0.69983775 0.70149791\n",
       " 0.70171384 0.70175041 0.70187311 0.70277679 0.70293552 0.70301396\n",
       " 0.70364397 0.70427169 0.70501979 0.70549219 0.70623725 0.70630269\n",
       " 0.70657691 0.70799939 0.70849519 0.70853451 0.70903371 0.70917351\n",
       " 0.70962389 0.70997408 0.71024544 0.71287102 0.7135375  0.71562894\n",
       " 0.71615926 0.71774612 0.71828645 0.71830297 0.71835932 0.7193162\n",
       " 0.72001014 0.72012156 0.72024824 0.72269615 0.72374052 0.7263873\n",
       " 0.72650065 0.72847991 0.72865066 0.72929591 0.72934541 0.72986598\n",
       " 0.73031769 0.73078768 0.73191252 0.73251469 0.73442068 0.73689853\n",
       " 0.73740145 0.73814132 0.74049609 0.74090056 0.74117867 0.74195768\n",
       " 0.74384062 0.74392914 0.74441359 0.74482956 0.74671877 0.74791083\n",
       " 0.74812492 0.748182   0.74819189 0.74986408 0.7508315  0.7514892\n",
       " 0.75205349 0.75310918 0.75325746 0.75383668 0.75392295 0.75603594\n",
       " 0.7572011  0.75873111 0.75963186 0.76033226 0.7612932  0.76195731\n",
       " 0.76201263 0.76423083 0.76544871 0.76563687 0.76598576 0.76868146\n",
       " 0.76893392 0.76997606 0.77184334 0.77240032 0.7736324  0.77370456\n",
       " 0.77813783 0.77819795 0.77827283 0.7785256  0.77879327 0.78366957\n",
       " 0.78433039 0.78671024 0.7868477  0.78743934 0.79058174 0.79089796\n",
       " 0.79129547 0.79165244 0.79255609 0.79365415 0.79611033 0.79688371\n",
       " 0.79777952 0.79795606 0.80511974 0.80622489 0.80920596 0.80952718\n",
       " 0.80975497 0.810091   0.81103192 0.81203348 0.81215162 0.81253441\n",
       " 0.81292502 0.81390833 0.81485539 0.81709205 0.81851405 0.81951792\n",
       " 0.81965313 0.82020716 0.82106338 0.82408001 0.82447269 0.82496588\n",
       " 0.8274571  0.82754571 0.82816337 0.82955271 0.82978271 0.83070711\n",
       " 0.83078222 0.83138066 0.83169488 0.83183571 0.83481316 0.83534357\n",
       " 0.83654093 0.83768042 0.83883894 0.83949729 0.84043267 0.84104487\n",
       " 0.84307513 0.8436822  0.84591952 0.84677156 0.85093289 0.851767\n",
       " 0.8517695  0.85213128 0.85218334 0.85357056 0.85389274 0.85469226\n",
       " 0.85537924 0.85638491 0.85828711 0.85876794 0.86128475 0.8638414\n",
       " 0.86797176 0.87202038 0.87416881 0.87499106 0.87532402 0.87635289\n",
       " 0.87690169 0.8770167  0.87827691 0.87954031 0.87992257 0.88088435\n",
       " 0.88262256 0.88399488 0.88427217 0.88481513 0.88570895 0.88579744\n",
       " 0.8860469  0.88615678 0.887407   0.88768005 0.88936314 0.88991126\n",
       " 0.88997302 0.89469545 0.89694939 0.89778193 0.89885159 0.89941319\n",
       " 0.89989003 0.90003067 0.90172571 0.90232779 0.90240578 0.90243571\n",
       " 0.90273411 0.90508331 0.90536356 0.90640364 0.90654798 0.9069669\n",
       " 0.90781855 0.90958229 0.91460192 0.9149319  0.91494627 0.91544841\n",
       " 0.9172279  0.91749636 0.91811873 0.92028548 0.92033801 0.9210671\n",
       " 0.92321778 0.92370272 0.92680798 0.92830454 0.92855659 0.93000135\n",
       " 0.93077627 0.93166786 0.93184556 0.9318776  0.93194467 0.93215433\n",
       " 0.93219512 0.93324301 0.93333514 0.93376827 0.93500795 0.93558558\n",
       " 0.93620201 0.937285   0.93751869 0.93757173 0.93759049 0.9383497\n",
       " 0.93882346 0.93992155 0.94070957 0.94084235 0.94093615 0.94290691\n",
       " 0.94334607 0.94342431 0.94509637 0.94570409 0.9457843  0.94640838\n",
       " 0.94905366 0.94906445 0.94909648 0.94985944 0.95071983 0.95082232\n",
       " 0.95228587 0.9529139  0.95300864 0.95605947 0.95644849 0.95676373\n",
       " 0.95779507 0.96238718 0.96616358 0.96987588 0.96994103 0.97192116\n",
       " 0.97231916 0.97319582 0.97372884 0.97405921 0.97494435 0.9762925\n",
       " 0.97682834 0.97891073 0.980725   0.98120974 0.9823757  0.98238373\n",
       " 0.98242622 0.98313437 0.98355605 0.98478972 0.98600503 0.98671388\n",
       " 0.99127871 0.99149638 0.99258727 0.99295412 0.99295688 0.99420818\n",
       " 0.99565101 0.99639141 0.99668051 0.99720504 0.99738532 0.99772012\n",
       " 0.99778912 0.99863291 0.99873324 0.99974755], [0.001 0.002 0.003 0.004 0.005 0.006 0.007 0.008 0.009 0.01  0.011 0.012\n",
       " 0.013 0.014 0.015 0.016 0.017 0.018 0.019 0.02  0.021 0.022 0.023 0.024\n",
       " 0.025 0.026 0.027 0.028 0.029 0.03  0.031 0.032 0.033 0.034 0.035 0.036\n",
       " 0.037 0.038 0.039 0.04  0.041 0.042 0.043 0.044 0.045 0.046 0.047 0.048\n",
       " 0.049 0.05  0.051 0.052 0.053 0.054 0.055 0.056 0.057 0.058 0.059 0.06\n",
       " 0.061 0.062 0.063 0.064 0.065 0.066 0.067 0.068 0.069 0.07  0.071 0.072\n",
       " 0.073 0.074 0.075 0.076 0.077 0.078 0.079 0.08  0.081 0.082 0.083 0.084\n",
       " 0.085 0.086 0.087 0.088 0.089 0.09  0.091 0.092 0.093 0.094 0.095 0.096\n",
       " 0.097 0.098 0.099 0.1   0.101 0.102 0.103 0.104 0.105 0.106 0.107 0.108\n",
       " 0.109 0.11  0.111 0.112 0.113 0.114 0.115 0.116 0.117 0.118 0.119 0.12\n",
       " 0.121 0.122 0.123 0.124 0.125 0.126 0.127 0.128 0.129 0.13  0.131 0.132\n",
       " 0.133 0.134 0.135 0.136 0.137 0.138 0.139 0.14  0.141 0.142 0.143 0.144\n",
       " 0.145 0.146 0.147 0.148 0.149 0.15  0.151 0.152 0.153 0.154 0.155 0.156\n",
       " 0.157 0.158 0.159 0.16  0.161 0.162 0.163 0.164 0.165 0.166 0.167 0.168\n",
       " 0.169 0.17  0.171 0.172 0.173 0.174 0.175 0.176 0.177 0.178 0.179 0.18\n",
       " 0.181 0.182 0.183 0.184 0.185 0.186 0.187 0.188 0.189 0.19  0.191 0.192\n",
       " 0.193 0.194 0.195 0.196 0.197 0.198 0.199 0.2   0.201 0.202 0.203 0.204\n",
       " 0.205 0.206 0.207 0.208 0.209 0.21  0.211 0.212 0.213 0.214 0.215 0.216\n",
       " 0.217 0.218 0.219 0.22  0.221 0.222 0.223 0.224 0.225 0.226 0.227 0.228\n",
       " 0.229 0.23  0.231 0.232 0.233 0.234 0.235 0.236 0.237 0.238 0.239 0.24\n",
       " 0.241 0.242 0.243 0.244 0.245 0.246 0.247 0.248 0.249 0.25  0.251 0.252\n",
       " 0.253 0.254 0.255 0.256 0.257 0.258 0.259 0.26  0.261 0.262 0.263 0.264\n",
       " 0.265 0.266 0.267 0.268 0.269 0.27  0.271 0.272 0.273 0.274 0.275 0.276\n",
       " 0.277 0.278 0.279 0.28  0.281 0.282 0.283 0.284 0.285 0.286 0.287 0.288\n",
       " 0.289 0.29  0.291 0.292 0.293 0.294 0.295 0.296 0.297 0.298 0.299 0.3\n",
       " 0.301 0.302 0.303 0.304 0.305 0.306 0.307 0.308 0.309 0.31  0.311 0.312\n",
       " 0.313 0.314 0.315 0.316 0.317 0.318 0.319 0.32  0.321 0.322 0.323 0.324\n",
       " 0.325 0.326 0.327 0.328 0.329 0.33  0.331 0.332 0.333 0.334 0.335 0.336\n",
       " 0.337 0.338 0.339 0.34  0.341 0.342 0.343 0.344 0.345 0.346 0.347 0.348\n",
       " 0.349 0.35  0.351 0.352 0.353 0.354 0.355 0.356 0.357 0.358 0.359 0.36\n",
       " 0.361 0.362 0.363 0.364 0.365 0.366 0.367 0.368 0.369 0.37  0.371 0.372\n",
       " 0.373 0.374 0.375 0.376 0.377 0.378 0.379 0.38  0.381 0.382 0.383 0.384\n",
       " 0.385 0.386 0.387 0.388 0.389 0.39  0.391 0.392 0.393 0.394 0.395 0.396\n",
       " 0.397 0.398 0.399 0.4   0.401 0.402 0.403 0.404 0.405 0.406 0.407 0.408\n",
       " 0.409 0.41  0.411 0.412 0.413 0.414 0.415 0.416 0.417 0.418 0.419 0.42\n",
       " 0.421 0.422 0.423 0.424 0.425 0.426 0.427 0.428 0.429 0.43  0.431 0.432\n",
       " 0.433 0.434 0.435 0.436 0.437 0.438 0.439 0.44  0.441 0.442 0.443 0.444\n",
       " 0.445 0.446 0.447 0.448 0.449 0.45  0.451 0.452 0.453 0.454 0.455 0.456\n",
       " 0.457 0.458 0.459 0.46  0.461 0.462 0.463 0.464 0.465 0.466 0.467 0.468\n",
       " 0.469 0.47  0.471 0.472 0.473 0.474 0.475 0.476 0.477 0.478 0.479 0.48\n",
       " 0.481 0.482 0.483 0.484 0.485 0.486 0.487 0.488 0.489 0.49  0.491 0.492\n",
       " 0.493 0.494 0.495 0.496 0.497 0.498 0.499 0.5   0.501 0.502 0.503 0.504\n",
       " 0.505 0.506 0.507 0.508 0.509 0.51  0.511 0.512 0.513 0.514 0.515 0.516\n",
       " 0.517 0.518 0.519 0.52  0.521 0.522 0.523 0.524 0.525 0.526 0.527 0.528\n",
       " 0.529 0.53  0.531 0.532 0.533 0.534 0.535 0.536 0.537 0.538 0.539 0.54\n",
       " 0.541 0.542 0.543 0.544 0.545 0.546 0.547 0.548 0.549 0.55  0.551 0.552\n",
       " 0.553 0.554 0.555 0.556 0.557 0.558 0.559 0.56  0.561 0.562 0.563 0.564\n",
       " 0.565 0.566 0.567 0.568 0.569 0.57  0.571 0.572 0.573 0.574 0.575 0.576\n",
       " 0.577 0.578 0.579 0.58  0.581 0.582 0.583 0.584 0.585 0.586 0.587 0.588\n",
       " 0.589 0.59  0.591 0.592 0.593 0.594 0.595 0.596 0.597 0.598 0.599 0.6\n",
       " 0.601 0.602 0.603 0.604 0.605 0.606 0.607 0.608 0.609 0.61  0.611 0.612\n",
       " 0.613 0.614 0.615 0.616 0.617 0.618 0.619 0.62  0.621 0.622 0.623 0.624\n",
       " 0.625 0.626 0.627 0.628 0.629 0.63  0.631 0.632 0.633 0.634 0.635 0.636\n",
       " 0.637 0.638 0.639 0.64  0.641 0.642 0.643 0.644 0.645 0.646 0.647 0.648\n",
       " 0.649 0.65  0.651 0.652 0.653 0.654 0.655 0.656 0.657 0.658 0.659 0.66\n",
       " 0.661 0.662 0.663 0.664 0.665 0.666 0.667 0.668 0.669 0.67  0.671 0.672\n",
       " 0.673 0.674 0.675 0.676 0.677 0.678 0.679 0.68  0.681 0.682 0.683 0.684\n",
       " 0.685 0.686 0.687 0.688 0.689 0.69  0.691 0.692 0.693 0.694 0.695 0.696\n",
       " 0.697 0.698 0.699 0.7   0.701 0.702 0.703 0.704 0.705 0.706 0.707 0.708\n",
       " 0.709 0.71  0.711 0.712 0.713 0.714 0.715 0.716 0.717 0.718 0.719 0.72\n",
       " 0.721 0.722 0.723 0.724 0.725 0.726 0.727 0.728 0.729 0.73  0.731 0.732\n",
       " 0.733 0.734 0.735 0.736 0.737 0.738 0.739 0.74  0.741 0.742 0.743 0.744\n",
       " 0.745 0.746 0.747 0.748 0.749 0.75  0.751 0.752 0.753 0.754 0.755 0.756\n",
       " 0.757 0.758 0.759 0.76  0.761 0.762 0.763 0.764 0.765 0.766 0.767 0.768\n",
       " 0.769 0.77  0.771 0.772 0.773 0.774 0.775 0.776 0.777 0.778 0.779 0.78\n",
       " 0.781 0.782 0.783 0.784 0.785 0.786 0.787 0.788 0.789 0.79  0.791 0.792\n",
       " 0.793 0.794 0.795 0.796 0.797 0.798 0.799 0.8   0.801 0.802 0.803 0.804\n",
       " 0.805 0.806 0.807 0.808 0.809 0.81  0.811 0.812 0.813 0.814 0.815 0.816\n",
       " 0.817 0.818 0.819 0.82  0.821 0.822 0.823 0.824 0.825 0.826 0.827 0.828\n",
       " 0.829 0.83  0.831 0.832 0.833 0.834 0.835 0.836 0.837 0.838 0.839 0.84\n",
       " 0.841 0.842 0.843 0.844 0.845 0.846 0.847 0.848 0.849 0.85  0.851 0.852\n",
       " 0.853 0.854 0.855 0.856 0.857 0.858 0.859 0.86  0.861 0.862 0.863 0.864\n",
       " 0.865 0.866 0.867 0.868 0.869 0.87  0.871 0.872 0.873 0.874 0.875 0.876\n",
       " 0.877 0.878 0.879 0.88  0.881 0.882 0.883 0.884 0.885 0.886 0.887 0.888\n",
       " 0.889 0.89  0.891 0.892 0.893 0.894 0.895 0.896 0.897 0.898 0.899 0.9\n",
       " 0.901 0.902 0.903 0.904 0.905 0.906 0.907 0.908 0.909 0.91  0.911 0.912\n",
       " 0.913 0.914 0.915 0.916 0.917 0.918 0.919 0.92  0.921 0.922 0.923 0.924\n",
       " 0.925 0.926 0.927 0.928 0.929 0.93  0.931 0.932 0.933 0.934 0.935 0.936\n",
       " 0.937 0.938 0.939 0.94  0.941 0.942 0.943 0.944 0.945 0.946 0.947 0.948\n",
       " 0.949 0.95  0.951 0.952 0.953 0.954 0.955 0.956 0.957 0.958 0.959 0.96\n",
       " 0.961 0.962 0.963 0.964 0.965 0.966 0.967 0.968 0.969 0.97  0.971 0.972\n",
       " 0.973 0.974 0.975 0.976 0.977 0.978 0.979 0.98  0.981 0.982 0.983 0.984\n",
       " 0.985 0.986 0.987 0.988 0.989 0.99  0.991 0.992 0.993 0.994 0.995 0.996\n",
       " 0.997 0.998 0.999 1.   ])"
      ]
     },
     "execution_count": 105,
     "metadata": {},
     "output_type": "execute_result"
    }
   ],
   "source": [
    "cdf = thinkstats2.Cdf(np.random.random(1000))\n",
    "cdf"
   ]
  },
  {
   "cell_type": "code",
   "execution_count": 108,
   "metadata": {
    "scrolled": true
   },
   "outputs": [
    {
     "data": {
      "image/png": "[encoded data removed]",
      "text/plain": [
       "<Figure size 432x288 with 1 Axes>"
      ]
     },
     "metadata": {
      "needs_background": "light"
     },
     "output_type": "display_data"
    }
   ],
   "source": [
    "thinkplot.Cdf(cdf)\n",
    "thinkplot.Config(xlabel = \"Random value\", ylabel = \"CDF\")"
   ]
  },
  {
   "cell_type": "code",
   "execution_count": 120,
   "metadata": {},
   "outputs": [
    {
     "data": {
      "text/plain": [
       "(0.15444157333766972, 0.5168027161504591, 0.9942081757874808)"
      ]
     },
     "execution_count": 120,
     "metadata": {},
     "output_type": "execute_result"
    }
   ],
   "source": [
    "cdf.Percentile(15), cdf.Percentile(50), cdf.Percentile(99)"
   ]
  },
  {
   "cell_type": "markdown",
   "metadata": {},
   "source": [
    "When plotting CDF, the line appears to be pretty much straight, indicating a uniform distsribution. Also, choosing several percentile ranks (15, 50, and 99) and calculating their corresponding values using Cdf.Percentile, we see that the values are quite close to what is expected."
   ]
  }
 ],
 "metadata": {
  "kernelspec": {
   "display_name": "Python 3",
   "language": "python",
   "name": "python3"
  },
  "language_info": {
   "codemirror_mode": {
    "name": "ipython",
    "version": 3
   },
   "file_extension": ".py",
   "mimetype": "text/x-python",
   "name": "python",
   "nbconvert_exporter": "python",
   "pygments_lexer": "ipython3",
   "version": "3.8.3"
  }
 },
 "nbformat": 4,
 "nbformat_minor": 1
}
